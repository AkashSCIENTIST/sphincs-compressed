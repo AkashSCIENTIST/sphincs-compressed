{
 "cells": [
  {
   "cell_type": "markdown",
   "metadata": {},
   "source": [
    "# $SPHINCS^+$ Python : Example #\n",
    "\n",
    "### Importing $SPHINCS^+$ Class ###"
   ]
  },
  {
   "cell_type": "code",
   "execution_count": 1,
   "metadata": {},
   "outputs": [],
   "source": [
    "from package.sphincsc import SphincsC"
   ]
  },
  {
   "cell_type": "markdown",
   "metadata": {},
   "source": [
    "### Instantiate a $SPHINCS^+$ Object and Setting parameters ###\n",
    "\n",
    "By default, $SPHINCS^+$ parameters are set like:\n",
    "   - Security Parameter: $n=16$\n",
    "   - Winternitz Parameter: $w=16$ (Should be set as 4, 16 or 256)\n",
    "   - Hypertree Height: $h=64$\n",
    "   - Hypertree Layers: $d=8$ ($d|h$)\n",
    "   - $FORS$ Trees Number: $k=10$\n",
    "   - $FORS$ Trees Height: $a=15$\n",
    "\n",
    "Changes must be done before keys generations, signing and verification"
   ]
  },
  {
   "cell_type": "code",
   "execution_count": 7,
   "metadata": {},
   "outputs": [],
   "source": [
    "sphincs = SphincsC()\n",
    "sphincs.set_n(16)\n",
    "sphincs.set_h(63)\n",
    "sphincs.set_d(21)\n",
    "sphincs.set_k(19)\n",
    "sphincs.set_w(16)\n",
    "sphincs.set_a(15)\n",
    "sphincs.set_cf(4)\n"
   ]
  },
  {
   "cell_type": "markdown",
   "metadata": {},
   "source": [
    "### Generating a Key Pair ### "
   ]
  },
  {
   "cell_type": "code",
   "execution_count": 8,
   "metadata": {},
   "outputs": [
    {
     "name": "stdout",
     "output_type": "stream",
     "text": [
      "Secret Key:  b'\\x02\\xafx\\xf9rD\\xe6\\x97\\xf4=\\x1d\\x87\\xa2\\x0fTs\\x1f\\x8d\\x17\\xa9\\xc8\\\\S\\x17\\x9c<\\xbb\\x8f\\x97L\\xdb\\x90I:|\\xae1\\x94G\\x9f\\x81\\xcd\\x8e{Y{M\\r_\\r\\x0f\\x1au\\xaa\\xda\\xc8Gj_\\xad,\\xa8b\\x86'\n",
      "\n",
      "Public Key:  b'I:|\\xae1\\x94G\\x9f\\x81\\xcd\\x8e{Y{M\\r_\\r\\x0f\\x1au\\xaa\\xda\\xc8Gj_\\xad,\\xa8b\\x86'\n"
     ]
    }
   ],
   "source": [
    "sk, pk = sphincs.generate_key_pair()\n",
    "print(\"Secret Key: \", sk)\n",
    "print()\n",
    "print(\"Public Key: \", pk)"
   ]
  },
  {
   "cell_type": "code",
   "execution_count": 11,
   "metadata": {},
   "outputs": [
    {
     "data": {
      "text/plain": [
       "64"
      ]
     },
     "execution_count": 11,
     "metadata": {},
     "output_type": "execute_result"
    }
   ],
   "source": [
    "len(sk)"
   ]
  },
  {
   "cell_type": "code",
   "execution_count": 12,
   "metadata": {},
   "outputs": [
    {
     "data": {
      "text/plain": [
       "bytes"
      ]
     },
     "execution_count": 12,
     "metadata": {},
     "output_type": "execute_result"
    }
   ],
   "source": [
    "type(sk)"
   ]
  },
  {
   "cell_type": "markdown",
   "metadata": {},
   "source": [
    "### Signing a Message ###\n",
    "\n",
    "The message must be in a $bytes()$ format"
   ]
  },
  {
   "cell_type": "code",
   "execution_count": 9,
   "metadata": {},
   "outputs": [
    {
     "name": "stdout",
     "output_type": "stream",
     "text": [
      "Message to be signed:  b'Ripples of paradox spread out across the sea of causality.'\n"
     ]
    }
   ],
   "source": [
    "# m = b\"No one knows the reason for all this, but it is probably quantum. - Pyramids, Terry Pratchett (1989)\"\n",
    "m = b'Ripples of paradox spread out across the sea of causality.'\n",
    "print(\"Message to be signed: \", m)"
   ]
  },
  {
   "cell_type": "code",
   "execution_count": 10,
   "metadata": {
    "scrolled": false
   },
   "outputs": [],
   "source": [
    "signature = sphincs.sign(m, sk)"
   ]
  },
  {
   "cell_type": "code",
   "execution_count": null,
   "metadata": {},
   "outputs": [
    {
     "data": {
      "text/plain": [
       "b'3\\xdc\\x7fS*\\xea\\xf58\\x1f\\x0f9\\x8d\\xddyM\\x9a\\\\\\x8e{\\x11\\x90\\xf0D\\x0b:K\\x18w\\xe7^\\x85%\\xdc\\xea\\xb9\\xb8se\\x03D\\xe3\\xe8\\xe5S%E-\\x0e\\x04Q^{\\xc8\\x91\\x8b\\x1f\\xf7\\xd7\\xc7\\xefw>;D|\\xb2\\xf9\\x8eLIT\\xee\\xe6\\x11\\x97s\\xf5k@_\\xbe\\t\\xe5\\xb5:Ah\\x0f\\x06\\x87\\x1dx\\x1e\\x8f\\xf6\\x11*K\\x87\\xc72LJ\\xdb\\xdf\\x9e\\xcbb\\x16t8\\x9f\\x0b\\x98\\x1f\\x8c\\x90>\\xac7<\\\\G\\xbeH\\x94\\xdf\\xe4\\x1e\\xde0@\\x1d\\x18\\xe6\\xbf*\\x9c\\xa8EFT\\x8b\\\\(\\x1eK(p\\xa0\\x12Z\\xfe\\xff\\xe8e\\x1f\\x92<\\x8a\\xde\\x1f\\x0f\\xad\\t\\xcb\\x8d\\xe9\\xb30\\xbc\\xf3\\x0c\\xb9\\xd9\\x163\\x16\\xf5\\x8f\\xcc\\xe1\\x15\\r\\x8f\\x1e\\x8e\\x14\\xf61\\xb8\\x12\\x19\\x82\\x0b\\xc4\\xc1;{\\xd1\\xe5N\\x82\\xa1\\xea\\x9e\\x86l`m--\\x0c\\x0f\\xa2\\x94\\xfe\\xc1g\"\\xa5\\xb7\\xachNR\\xfa\\x98 Hg|\\x84\\t\\x04\\xb4\\\\\\xc5[L\\x9a\\x05t\\xb8\\x82dL\\xfe/b\\xe1{h\\x83B?\\xb8\\xb19\\xc3\\x18Pbl0\\x8f\\x0b\\x90i\\xfbC\\xb6\\xa8\\x8bf\\xc6\\x9b,0\\xe70H\\xcc\\xa8M-i+\\xdakD\\n\\xdbF\\xe8\\xbd\\xa8\\xbf\\xe6\\x15\\xae\\xd0\\x04O\\x9a\\x1e\\xb6\\x99\\x8a\\x83+n\\x7f]{\\xf4\\xf6\\x8a\\xcc\\xed_b#\\xafS\\xa1Q\\xdb3F\\xf7\\x99\\x87u\\xeei\\xff\\x9c\\xfa\\xbd\\x1b\\x8e\\xd4\\x0f=\\xac\\xa92>li\\xeb\\x91\\xd2\\x1c\\xec\\xe4\\xc6\\x89\\xe5\\x81\\x07\\x95I\\xde\\xb2\\x16\\xbeU\\xfd\\x84\\x17\\x02$\\xfc\\xae\\x89\\x96I\\x1a=\\xea\\x8b\\xca\\xe3}\\x05I\\xa9\\x8c\\xc2[r\\x15i\\xa2\\\\_\\xdc\\xfc\\xb6\\xee\\x01#\\xcfj\\xe3b:g\\x97W\\xb8\\x83{\\x81Jd\\xcbk0\\xb3q]<\\x98\\xf8\\x04s5\\x94\\xf7 \\xd4n\\x10X|\\xc3/W\\xd6\\x01XkO\\x8cP\\xcam\\xcak\\xf2\\'\\xe3\\xf5^\\xf1Y\\x01\\xc5\\x86\\xcf\\xa9\\x01\\xab1\\xe0I\\xc2\\xe6\\xa4\\x01\\'\\xcf\\x97|\\x81\\xcc\\xd61\\x0f\\xab\\x9c\\x98F\\xc3\\xf2\\xe1\\xd9^?|\\xc3\\x96\\xda8r\\x0b\\xad\\xcc$d>o\\xdf\\x04\\xe7*nF|\\xee\\x89\\x1a\\x9aE\"\\r|\\x08\\x0b1\\xc7\\xbd\\x0b\\xef\\xb9n\\x02\\xd0\\xc1>]\\x8a+\\x10 \\xe1\\xcb\\x01k\\x8f\\x01\\x93\\x0e8\\xe5\\xb9\\xb0R\\xed]\\x17\\x80)\\xf5\\x9a\\x8d\\x8b\\xa1\\x97E\\xb0\\x90.\\xd3\\x82H$G$\\x16\\xe1\\x01-\\x97~\\x9d\\x0f>\\xf1\\r=%\\x05(\\xc6\\x03\\xe0~@vF\\x92\\x18\\xda)\\xb7\\xb8\\x1a\\\\6a$\\x9d\\x93\\xf8X\\x13#^D:\\x88\\x83\\xa0\\x99\\x87\\x14\\x84\\xb0;U\\xce,#2\\xb9\\xcd\\xf4\\xed\\xab\\xea\\xb5\\xed\\xf5\\x863\\xfdPB\\xbda\\xc57\\x01lg\\xcc\\x13\\xadi)\\xeb\\xb9\\xc3m~\\xa3_\\xfc\\xdf\\xd8\\x1a\\x91;\\x11W0\\xd3\\xc1<;\\xabT\\xc4z\\x0e\\x8a\\xbbu\\x1c\\xd8\\xe5\\xe2.\\xd1^\\xcad\\xfb\\x18\\x0c\\xc6\\x16\\xd8\\x01 \\x82\\xbaP\\x01J\\x1beX\\x96-\\xb2Zu\\x89\\x9f\\x11)\\xdeGb\\xd1\\xa22\\xbd\\x90n\\xc4\\xe3\\xbe\\xaf+\\xeb\\x01\\x83^#\\x16\\xb7x(7\\r\\xd6r\\t\\xaa\\x9fY\\xd4\\xdc\\x96\\xe4\\x13\\x10\\xe8\\xd1\\xec\\xeatb_Y\\x17{\\xdbD\\xcf\\x95\\xb6\\x07\\x1e]\\n\\xc1\"\\x99w\\xf2\\x93\\x7f}, g\\xf3\\xebG\\xf6#l\\x8c\\xb7A\\x92\\x11\\xb6:\\t\\x0e\\xcfmUbRq\\xad\\xa6\\xf3;\\x0bfT\\x9c\\xfc\\xac\\xc2\\xfc\\xc1\\xf1\\x9dB\\x80\\xed#hl\\xd9j*\\xcbX\\xaa\\xb7\\xd1\\xc0\"\\xda?\\xf4CdW\\xfc\\xb9\\x13\\x19P\\xcc\\x1a\\xdeY\\x8d\\xb6`\\xb2\\xe3\\xfbD\\xba\\xbbN\\x88\\xea\\xc6f\\xd2\\xe6\\x0cX\\xa5\\xe0Uy\\xf5\\xec\\xd1x\\xa3T\\xe1-\\x073\\xfc`\\x02\\x92\\xb5\\x14f\\x81\\x9e>6\\xccN\"6E\\x96\\xe6#\\xa2)S\\xc0\\x13\\xd1nP^\\x12\\xb5\\xe51\\t1r\\xc6\\x9d6kO\\xf6\\xf3;\\xb96\\xdd\\xf3\\xe5\\x93\\x02\\x07`<\\xfa\\x87e\\xb6\\t\\xb4\\xaeC+X\\'\\xa8\\x17\\xf7\\x96\\xd1\\xbe,\\x7fd\\xf5>\\xafp\\xcf\\x88\\x94R\\xcc\\x19%\\xcd\\xaf\\xa0\\xedmJ\\x9f\\x88\\x0c\\xf1\\xcdWC\\x81JG<\\xb4w\\x82o#\\x07!\\xf1\\xbc\\x87\\xe03[A\\xdd\\x18\\x8byBw{k\\x8f\\xe2C;3\\x19\\xedR\\xb6R\\x18\\xccA_\\x02&\\xbf\\xa59\\xa1\\xc7\\xca\\x06\\xf8w\\xdf\\x85\\xe1#\\x16o\\xaa\\xee\\xcd\\x08\\xa447<\\x92\\x8a\\x14\\x98%\\x94/o+\\xe9d-\\xd4\\x1c7U\\x9d\\'\\xe8l\\x1e\\x89\\x8a\\x96MX\\xb7o\\xdc\\x8b\\x9al\\x8e\\xb9\"\\xb1\\xd3x\\x89\\xb4\\x9b\\xaf%\\x9bs\\xbf\\xf8oC#\\x8bRN%t8\\x90\\x89<\\x85\\x83(\\xeb\\x89e\\x80\\xcd\\xea!\\xc2\\x9e\\x8b\\xaac\\xce>\\xdb\\xaa\\xb9\\xdbN\\x98uH\\xa5pC\\x04\\xe4P\\xcc\\xeb\\x92\\x820F\\x04\\xc0\\xc1\\x9d\\x9d\\xe9\\xe4\\x03\\x1e\\xcb\\xe3\\xf5\\x93\\x0e\\xba\\xacF|\\xbb\\x00\\xf6\\x87Z\\xff\\x8d\\xde\\xfa\\x12\\xb6\\x0f\\xfbo\\x8e\\x1eG\\xc3J\\x92\\xd9\\xae\\xcb\\xae}\\x06%%G1\\x00D\\x8cg\\x88\\xfc\\x14\\x8d\\x1421u\\xf3\\xf7)\\x8f\\x058 x\\x99\\xd2`f\\xcd\\xf2\\xd2\\x10\\x10|E;\\x88\\xc9X\\x92i\\x06o\\xac\\xf9\\xb8d\\x02\\xa7\\\\n\\x1a8\\xadf \\xef\\x19A\\x91\\xe9\\xd3\\x99\\x0f\\x1f^f\\x8d;\\t\\x13\\xb1\\xa7X\\xa8\\x80G\\xe9\\x1c6\\xfbP\\x11\\xa1\\x98\\x8e\\xadJ\\xbcI\\x8c$]r\\xcax\\xde\\x03p\\x17w\\x07\\xaa&E\\x89\\x85\\xa0T\\xcb\\x9dVq\\xfe\\x85\\xdc`\\xbe \\xe5qo\\xd3O]\\xcb\\xce?N\\x85\\xd9\\xfc\\x01\\xc2\\xd3\\x81\\x8fP2\\xf8\\x8f\\xe8I\\x9c\\xa5\\xbd\\xe4!/T\\rn\\xbfc\\x03g\\xc8\\xc0Y\\xbd\\xc4\\x02\\xc7\\xb9\\xe0\\x93\\x89\\x95\\xbf\\xcc\\xae\\x17\\x9ay\\xe3\\xf0\\xc2\\xd3\\xbaP\\xc1.>\\xdd\\xd9nF \\xc0*\\xc7[\\xce\\x8co\\x07\\x0ff\\xb3M\\x9c\\xb5\\x9c\\xeb\\xfcl\\xe1\\x10\\xd90C\\xe8\\xde\\xcf\\xae\\xed\\x80%\\xa1\\xcb\\xad4\\xfc}\"N\\x86\\xf2\\xdd\\x8dP[\\xb0\\xdb\\xe6P\\xb6\\x92\\x94\\xd7C\\x1b\\x97u\\xfb\\xbfcT\\xd6d\\xf1L\\x0e\\x8ef\\xf1\\x84\\x06H\\x15kc%\\xab\\xc1\\xdd\\xd7\\x15\\\\b\\xa7,\\n\\xfe^\\x1ekTT\\xcb\\xcb\\x10&\\xc8\\x7f\\xa2\\xc7,aq\\xdc\\x99\\xda\\xef\\xfb\\xa7NN\\x10\\xe6\\x91\\xf6\\xbd\\x0f\\x8e\\x0f\\xcf\\x92*J\\xadg\\x85\\rp\\x0e\\xc2@S\\x08L\\x0c|\\xf4\\xad\\x02\\xef\\x9d\\xdf5\\xcc\\r\\xfd)\\x7f\\x11\\xa8L\\x1b\\xef\\xcd\\x80u\\xbd\\t\\xb8\\xe3%\\xbe\\xe4\\x08dJ\\x90a{\\xd9\\xe6LK\\x11\\n\\xd1G\\xdb\\x1ch\\x0f\\x1d\\xb8(\\xa2\\xff\\xb2\\xd5\\xdb\\xd4\\x05\\xd5\\x9d\\xbd\\x8dU\\x08\\xc4\\r\\xe9?\\x8e\\x8a^\\xf8F\\x00\\x11\\x11\\xcf\\xce\\x07\\x05F\\xf1@m7H\\xeb\\x06)\\xb8\\x82\\x80%\\x17\\x10\\xb5\\x8b[h^\\xd4\\x1f?\\xd0\\x975\\xbb\\xfa[\\x14\\x8d\\xba\\x06\\xa0]Q\\xdb\\xb0\\xe5\\xdb4\\xa9d\\xb5\\x15M(\\x1f\\xa5\\xb0+\\xd2\\xa5e&.\\xf0\\xf2\\xe8\\xc8\\xe4\\x91\\x0b\\xd0.w4\\xfc\\xc91\\xfdJ\\xb8\\xbb\\r_T<\\xd9-\\x9b\\xc2_)\\xad\\x11\\xa6\\x8f\\x95/\\xb4s\\x99\\x89i\\'\\x99\\xaa\\xe4\\xd8\\xb7\\xe5^6] U1\\x02\\xdf\\xfe\\x9fnLZ\\x82\\xb3r\\x87\\xb6$Ee]W\\x91 a\\x9f9\\x89l)\" \"\\xc8\\x8d7$s\\xa7\\xd9\\xafh\\xa4b\\x01#\\xde\\xbf\\xf3n\\x1d\\xf7\\tqa\\xd35ie\\xa1\\x12\\xf9\\xf1\\x7f#\\xf5s\\x80u}\\xac\\x1c\\x1f\\x8c\\xcf\\toR/\\xfczt{\\x87V\\x16\\x0ch{\\x07\\x8em\\xa0\\x9c\\x91M\\x10B\\x84\\x19\\xa2\\xe0\\xa2\\x1e\\x8b#P\\xb0\\xcc\\x82~&\\xd8skT\\xe1\\x14\\x9ce\\xaa\\x16\\xaa\\x14KR\\x12$\\xed\\xef\\x16\\xa7Mi\\xecuv\\xe2\\xa0C\\x92\\xc6f\\x16\\xcb\\xc7\\x1b\\x97\\x06\\xc8$\\x05O\\xef\\xae\\xae\\xb7v\\x99*\\x10\\xe2\\x90(\\x85\\xed$>j\\xf1\\xe1\\x9f\\xab\\x9d\\xa5\\xde\\xf0\\x87\\x9c=$/\\xa4\\xb3|\\x9ex\\xaaG\\x18\\x9c\\xc3\\x87\\nhH\\x8f\\xe6\\xd9\\xba\\xc7\\xcfgy\\xf0&\\xe9\\xc6h\\x9a\\xe5;\\xcc\\xa9K2\\xf7x\\x86\\xe8\\xd5\\xdf\\\\\\x82~X4\\xb7\\x0f\\xc8\\xb8\\xf5}b\\x17\\r\\xe1\\xa8\\x05\\xc1\\xca\\x01(6]\\x08Y,e\\x00\\x19\\x9c\\x11\\xd2,`\\x1a\\x82\\xce@\\xe4y\\x0b\\x08\\xdbfT\\x87\\xa0cR/\\x96\\xdd\\xb0d\\x8b\\xf9\\xf3SV\\x04\\x1e\\x89\\xdc\\xc35\\xbcK\\xed\\x88W):O\\xf6:\\x94QU-\\xc8M\\xf6\\xdb\\xcc\\x80\\xb7\\xff\\x8a=\\xb6Wqk\\xdaJ\\xca\\xde_A\\x9b\\xeaT\\x1b\\xc1\\x0b\\xff\\xe7\\x93\\xaa\\xc8=\\x00w\\xa7\\xd9\\xfa_X\\xae\\xb2\\x83@\"\\x84x\\xbf1`\\xc1\\xae\\xe8l\\x1f\\xf1\\xdd$\\xcf\\xf1\\xc0D\\x90\\xfe\\xe9\\x88X\\\\6\\xf0y\\xe0\\x87\\xecv\\xe5\\x8e|.=\\xf6\\xee\\xa0\\x02 \\xf5N\\xcf@\\xb5+\\x04\\xf3\\xd4>\\xf3X\\\\\\xefU\\xe4\\x7f\\x8bAzA\\xf7\\x880\\xec\\xb0\\xe0\\xca\\xbak\\x0e\\xb4\\xb5\\xd4N\\xd4\\xecn\\xd2\\x17)<5as\\x8b\\x96\\xc4t\\x1f\\xda\\r\\xba(\\\\I\\x8d\\x8d\\xae\\x03\\xe0\\xbf\\xe5\\xcb\\xeb9\\x8a\\xb6\\x9f\\xae\\xef\\xef\\xa2\\x88\\x18j\\x8e\\x95\\xc3\\x92H}\\xc1\\x95\\xcb3\\xf7N\\xc9\\xd6\\xec\\xb8\\\\:\\x92/#\\x83\\xb6\\xef\\xec6\\xcb\\xb6\\x12I\\xe2\\xe7\\xe1\\xc1d],\\xf9I\\x0e\\x1bZe\\xe5\\xef\\xd8\\xf65#\\xf4\\xe5@\\x0c\\x1a\\xc8a\\xa3\\x87\\x9dV\\xe2MJO\\xc1m\\xec\\x06\\xdf5`Kd\\xee\\x81\\xb1\\xd2X\\xc5[9\\x1c\\xcbr\\xdem\\x0c\\xf8\\xc7v\\x8b\\x1b|\\xf7o\\xd4\\x90zV\\x94\\xe6\\xeb\\x8dM\\xf8\\xbe\\x14md\\xc8\\t\\xb4\\xd2\\x0cFQ\\xde\\xc8\\xe4T\\x80\\xfeq\\x1c\\xa2\\xe7\\x1f\\xe4\\xc8S\\xfa\\xe0\\x89\\xaa\\x16\\x1c\\x7f!\\xcbn\\xbb\\xf4\\xed\\xda\\x18V\\x93Z\\x8e60Y\\xa6\\xea\\'\\xf4R\\xcf\\xb01\\xcc[a\\xeeJ|\\xf6\\x95O\\xbe3\\xbf\\x8a\\xdb\\xd7&j\\xd3\\x04Ei\\x82\\xf6\\x01\\x10D\\xda\\n\\xfe\\xe5\\x01G\\xad\\xde\\xf4AK\\x04\\t\\xa7\"\\xef\\xff\\x19Zd\\xfe\\x94\\xcf\\xa8IZJ\\x83$\\x07\\x87\\xa4\\xc3r\\xa3\\x7f38\\x94Cs7\\x9e\\xf2\\xe4fV\\x95\\xbb\\xcb\\x07Pt\\xcfs\\xd60#\\x14\\xd3\\xf0$q\\xac\\xac\\xae^\\xd9x\\xd4\\r\\xda\\xe5K\\xb4K\\xdf\\x81P\\x9c1$\\x99\\x91tT\\xba\\xf6\\xe6y\\xd43\\xd29\\xdf\\xee\\xc3\\xde^\\x8f\\x9e\\xa7\\x00B\\x06\\xd9\\xfd^PC0\\xb7\\xa9),\\xab x\\xbfjD-85\\xfb4\\xd0\\x1c\\xb4\\xdc\\x04\\x1a\\xce\\x00\\xf9@rf\\x8d\\xb0pz\\xb2\\xcdS(\\x8cJ\\xb1\\x0fw\\xf5\\xd5\\xe3+\\xef\\xd9\\xd2\\xf7\\\\w#\\x97$\\xd6\\xc7\\xebr\\xe0\\xcb\\xf0\\xbb\\x1abNk\\xbd[F\\x94w\\xf3\\xa7\\xc7;\\xb3\\x98\\xda8\\xadPQ\\xeb\\x0c\\x8are\\xc2(\\xe2\\xd2\\xaf\\x86je\\xb5\\x94\\xc3\\xa6v\\x82O\\x14}eH\\n]\\xf8\\x03\\x8d\\xf4q\\xa47\\xc8\\xc7\\x1c\\x891\\xca\\xa9\\xd7\\xc5\\x93\\x9b\\x9e\\x80/h\\x15\\xb4\\x86;\\xac\\xd3\\xeb~\\xbbY\\xfa\\xc5\\x07\\x16\\xed\\xa14\\x01O\\x99U_\\x07b\\tZ\\xcd\\x1f\\x12\\xe6T#\\x9b\\x04\\x9e\\xd6\\x03\\x82\\xb4\\xb9\\x0fa\\xf5H\\xd3\\xc0\\xaa\\xc7P\\xf4\\xb8\\x9e\\xeb\\xd8\\x05fE\\xec\\x19E\"\\x93z6_|\\xc7\\xe5:\\xaeSq\\xf5,\\r\\x18\\xd8Y\\xa9\\x82\\x10\\xc3\\xb6\\xb73\\r\\xc0\\xde\\xbfM\\x14\\x9fc\\x91\\x8a\\x0f\\xb0(}\\xe1\\xef\\xd6_\\x07\\xc1\\x9cMS\\xc2;\\xb1@3\\xd9\\xde\\xcel\\xc3\\xf9\\xc0\\x1a\\x9c=\\xbb\\x8b\\xb4\\xa1\\xff\\x9c\\x99\\x01\\xd7CI\\x9f_\\r\\x1e\\x9d\\xe6\\xad&\\xd8\\xcd\\xe9\\x8d\\x1d\\xa6.\\x9f9\\xce\\xc1\\x1dop|OyUg\\xb1G\\x83<\\xc6\\x03\\xc7\\xa1\\x8aP_\\x12\\xc7\\x10\\xc5L\\x15!\\x0c\\xfa\\xe8\\xcf\\x05\\x04\\x9c\\x1e\\x02\\xba\\x1cy\\xd3\\x90\\xb9\\xd74\\x9b\\xf5\\x94\"\\x95\\xe1P&\\xa9\\xee\\x01u\\xc1\\xe1\\xb1\\xdf\\x1e\\x89\\xaex\\x04\\xb6\\xbf\\xb0\\xefs\\xa2U\\x8f\\xa2\\xc1\\x9d\\x8c\\xf3\\x18\\xca\\xe0K\\th_Y\\xe2\\x01\\xf8\\xbcV\\xc5\\xad\\x17\\xf2\\xe0\\xe2}\\xf7n\\xc2\\x0c%\\x14@\\xff\\xc4\\xc0\\x0c`\\xe2o\\x10\\xb97\\xe6qOZ?\\x8b\\r\\x97\\x19\\xcc\\x15&\\xf4\\x92\\x1fs\\xbf\\x87\\x9cm\\xde\\xa0\\xa6Gi&\\xb7~U\\xad\\x9b\\xf7\\x1c\\x9e\\xf01\\x8ck\\xb9\\xd25L@\\x18\\xdeJ\"\\x1c\\xb0A\\xa6\\xd6&\\xfd\\x9e\\x98\\'K0$\\xc6\\x93<TbN\\xd0\\x91\\x98I\\xc3t\\xb5\\xa7\\x03{\\xc5\\xd0\\xd2\\xd3z0\\x02\\x82N\\xff\\xce\\\\\\xaan\\x97~\\x96\\x9e\\xac9\\xf1Z\\xfa9\\xdcb\\x08\\xfa\\xba{\\xba\\x8a\\xfa\\x9e\\xa0lM \\xf2\\xc8\\x9c\\xc3v\\xec\\xec\\xcb\\xc2\\xbdB\\x15\\xadl(\\xf5[/*\\xfa\\xca2\\xefG\\xda\\x82\\xec\\xb6\\xb4!R\\xc5\\t)\\x0b\\x13_\\xc0{\\x91\\x17J\\x83\\x93b-\\xbb\\xb4\\xee,\\x840\\x18\\xdfL\\x0clw\\xfdc_\\'\\xe3L9\\x021\\x16\\x87$\\x80\\x89\\x84\\x08M\\nfw\\xca\\xbdM\\xee\\xa4[\\x9e4J}\\xa5\\x89\\xd0\\x96\\x16V\\x8fxU\\xc2\\xf7f\\xc6\\'\\xa5 \\x01\\xbe\\xc5\\xa8\\xf0\\x92\\xfa\\xa5\\xb2\\xe8\\x11\\x896)d\\xaf8\\x11\\x08 \\xcc7g\\x96\\rx\\x06Y\\xcb\\xe7P\\xaf\\x15\\r5\\xd3\\xe6\\x7fS\\x7ft\\x8bu\\x99\\xbf^\\x86c\\xf7\\xee\\x1d\\x95&\\xe8|F\\'/o\\xd5\\xd7\\x18\\xb7\\x14\\x86\\xa4/c%M\\xc8)0\\xf0\\xec\\x8c\\xdd\\xad\\xc5\\x88\\xa1J\\x96\\x9fP0\\xa9\\xf6\\xab0!\\xa4\\xec\\xe2\\xb6\\x1d\\x06`K0\\x9b\\xcfS\\xf54y\\xeeyO\\x0f_\\roA,\\x93ld\\xc3\\xd5\\xc7s%\\xfce\\x86\\x05\\xb6S\\xe5\\xe7\\xfb\\x019\\xd3\\x99\\n\\xdbO\\x0b\\x03\\x12A{u\\xf5Q\\x9a\\x9e\\xf4\\x1a0-?\\xce\\xec\\x95\\x92#\\xdf\\xf2\\x0e\\x90\\x80\\x17\\xc8u\\x90]\\xb4\\x19\\xbf\\xe4\\x8a\\xd7X\\x14\\\\\\xc2\\xd6?0\\x05\\x0c\\x99\\xea\\x07]\\x19\\xb1\\x96\\xc9\\xa4\\x9f\\xbc\\xdc\\x9c\\xed\\xff\\x00\\x8c\\xd5\\xbf\\x8b5\\xa6\\x15ea L-l\\xbc\\xc2w\\x0b\\xca\\x8eYA3U\\x8e^]\\x02y\\xbdI\\xc9\\xd5U$\\xa7\\xd3\\x9a4\\x02`\\x9d0\\xac\\x01\\xd9\\xe6\\xba\\xb5\\xc2L\\x05F\\xc35\\xc9\\x8e\\xdb\\xab|HG\\xa8r\\x18\\xa6m\\xf7\\xb2\\xc7\\xc2\\xd1\\xcdo\\x7f\\x06M\\xd2\\x07tK\\xc3\\x94\\xedg| L\\xda\\x16h#\\x1d/\\xf9uR\\xb6\\x982\\xfar/\\xf5\\x058\\x1a\\xb7~I+\\xd7\\xbe\\x11AT\\x840\\xbb\\xa8\\xbaN,\\xbf\\x87\\xa3\\x96\\xf2\\x12\\x96Y(\\xdd\\x8f\\x16e\\x87KN\\xdc\\xdd\"*;Jm\\xe6\\xa7*^Y*5\\xaf\\xf9\\xd2\\x8cXii\\x99\\xb05\\xe5WO\\xf7ZZ\\x98<5\\xc6e\\xffaN1!\\x87\\xd2\\x12\\x1f\\xd2\\n\\xec\"?\\xeb\\xe2M!\\xb9\\xa8,&^\\x1e\\xf4\\xa0/\\xe5\\xa3\\x9eoS\\x02\\x16\\xb2\\xcd\\r\\x0cfa\\x8aB\\x98\\xbc@\\x16\\nv\\xb6\\xca\\xc1+\\x13\\x15\\xa8F\\xdb\\x82\\xfa\\xe2\\xee\\x82\\'\\xe7Q \\xdc\\x81\\xae\\xb7e\\xf7\\xc1a\\xa1\\xc1\\xb4\\xacS\\xc4L\\xa1\\xee!\\xa9\\x05\\xee\\x7fL\\x18q\\x1a\\xc0B\"I\\x85z\\xf1\\x81\\xa7\\x9d\\xd8\\xcbI\\xd2\\x9aCc\\xe0\\xa3\\xfa\\xea\\xa7\\x8e\\x90@7V}\\x85\\x1b7\\xf7(i\\x1d\\xf9\\xea\\'\\xb3\\xa0\\xb9\\xbdS\\x18\\xfa\\xec\\xf80\\x18\\xe7\\xb8\\xe3\\x80\\xa1\\xae\\xddX^mA\\xfau\\xd7\\x81\\xad=j@\\x1dB\\x13fB1\\xe8\\xdc`\\xb3\\x81\\xb8\\xf7R\\x1f=\\x91\\x04\\xae9\\xd0ls\\x0e\\xcc\\x82v\\x8f+QPB\\xcdo\\x97\\x1c\\x90\\x96\\tOJ\\xbc\\x13U\\xff\\x08\\xad\\xd9>T\\xf3\\xe7m^\\xdcq\\x0e}7\\x94\\xfe;\\xdd\\t<*lw\\x96\\xd8\\xfb\\x086\\xf1\\x1f\\xf3no`y\\xd7\\'9\\xd5\\xa5ij%\\xdf?\\xdc\\x99Q\\x80\\xdc\\xcb?\\x9e\\xf8\\x06\\xe8\\xff\\xdf>v\\x1c\\xf8\\x16\\xbfI\\x15\\x94=\\xda\\xbdT\\xdd=]7\\xc0\\x89H\\x16:\\x98\\xe6\\xf9 \\xe5\\xb1\\xb9\\xa5v\\x1f\\xb0\\xbcr\\xee\\xce\\xeb\\x88Vy\\xcc\\x92\\x02v\\xcd\\xf8=\\xc2\\xa09$r\\xd0\\xa5Q2\\x05}\\x8e\\x82h`\\x04\\x1c\\xaeg\\xd4U\\xda@{+&\\x10\\x85\\xb7\\xa9\\\\\\x1a\\x16l\\xe7E\\xe0[\\x1c):9\\x058,%\\xc1\\x99\\x00\\xfbn\\xa1\\xc8x\\xe6\\xd3\\xb4C9\\xb3\\x18\\xfd\\xa3%\\xbf\\xfb\\xa2\\x94\\xff\\x8f(\\x13\\xa7\\xe1\\xf4\\xbdo\\r\\xc09\\x7fID\\xa8\\xc2\\xd3o\\xf9\\x15\\xabv)\\xec\\xbf>g\\xa1T\\xa6\\xa1\\xc4\\xaafE\\xacy\\xd0\\xa5?\\x11\\x83\\x0e\\xad7Q\\xed\\xd8\\x7f<\\xb1\\x9d\\xee\\xf9L\\x0e\\xafN\\xea\\x06\\x97\\x10\\xc6\\xde_\\t\\xc9\\xb6J\\xda\\xc9\\xa2\\x15Q9\\x03\\x96nh\\x88\\x1c\\xcbV\\xda\\x96K\\x80;\\x9a/\\xf9\\x05j\\x13\\xbc\\xc9^\\xe3\\x04\\x0e\\x14\\rGO\\xfa\\x99\\xc0\\xf2\\xcc\\x1aJ\\x8a\\x1b\\x1a\\x1d\\xcd\\xe0\\xfe\\xfd\\xbd{\\x86M\\xdd\\xa9r\\xe5\\xed\\x83V\\x14N%\\x86\\x91\\x16\\x8aa\\xf8\\x91\\xad\\xc2\\x16\\xb3\\x96\"\\xa7\\xa7\\xd3\\xa4\\xf5p~j\\xc5\\xf1|\\xe2\\xb7+\\x1d\\x14\\n\\xd1@4\\x84\\x87\\xc8z\\x0b\\xb9\\xcc\\xaf\\xbf<q\\xd1:\\x02\\xc0\\x01\\x01\\xc6\\x84z\\x82d_\\x1c\\x15\\x80\\x160\\x1e\\xb6\\x0f\\xae\\x04\\xffr\\x08\\xaf1\\xe6\\x1d\\x80H\\x809\\xa7\\xb5\\x93\\x93\\xc6\\x85\\xd0\\x846\\x87\\x80\\xb5l\\x18\\xcbS\\xea\\xcd\\r\\xc9MA\\xa8\\xd6\\x85FC\\xc8\\xfb\\xe6\\xbcc\\xd0\\xbbc\\xaa\\xb7\\xdd\\x8f\\xde\\xfa\\x14d\\x8f\\x12\\x95\\xa9\\xf8\\x9ah\\x13\\x7fvxa\\xdfc\\xb9B\\\\u\\xe0\\xc9S\\xb1\\x83z\\xfa\\xfa\\xfa\\xd1\\x87\\x8e!NM\\x87\\xc1A\\xbbY\\xfa\\x9b3q\\xb6i\\x06z5\\xe0\\xd2\\xe3\\x88\\xd5\\xe6\\xbd>\\x1aH\\x85eG\\xbc\\xf54\\xcf\\x1a\\x19:\\xecOj\\x8b\\x11J\\xde%G\\xdb\\xf9&^v\\x8d\\x99\\xa4\\xf5\\x17\\xaep\\xbd(\\x1a8`\\xa5H\\xf0\\x1b\\xac\\xb2\\xc5N\\t\\x1f\\xc0\\xe9\\xf3j\\xfd\\x14\\nH\\xf7\\x0b\\x9a\\xe3m\\xac\\x99\\xd8E\\xa2\\xaf\\x8d0\\xd7_\\xb3\\xc8(\\x86\\x82\\xae\\xd0\\xdf\\xa2\\xf8\\xd5\\xc0,\\xed\\x04\\xf73!\\xad\\x1c\\'\\xa5\\xe1M\\xbeC]6I\\xbe=\\xd3\\x15\\xc4[;\\xa9\\xad8\\xf6\\x07\\xad/\\x84[=[\\xfe6\\x8fV\\n\\xdf!\\x01;\\xbd\\x9f\\x05\\x7fH\\x02\\xed\\xa7\\xc4\\xa9E\\x1e\\x81\\xde\\xdd\\x0b$B$&\\xa6-\\x06\\xe7\\xda+x$\\xd0eoK\\xfb.\\xf0\\xe5\\xd5\\x9c.\\x7f\\xb8\\xdcp\\xe2\\xbf\\xb4\\xed4b\\xbb^\\x95*\\xa6\\xd2\\xc4\\xab\\x00N\\xb7\\xd0\\x83k\\xda\\x02\\x97\\xaeVdS\\n\\x159$\\xc1:\\xdf8\\xdd=\\x8b\\x17\\x031\\xa9\\x9dj\\x14j0-\\xaa\\xbd\\xe3\\x87\\xae\\x931\\xaa\\xde&z\\x93e\\xc6z\\xdci\\xaa\\xcd\\xb6\\xcah\\x85(\\x93\\x13\\x99\\x11\\xdd\\xc5P\\xbc\\xaak\\xad\\xda\\xbf\\xa8\\xe8\\xff\\xd2\\xad\\xef\\xca\\x8f\\xe84S\\xcf\\xc9\\r\\x02\\x00l\\xaa\\r\\xe3_F\\x12\\x0e\\x98\\x9dR\\xfc\\xf8\\x12\\x89\\x08[\\xa6S\\xa6S\\xd8\\xa4\\x17e\\xf3\\xc9\\x93\\xaec\\xc6\\x8ff\\xa3L{+\\xfdA\\x04K%,`O\\xc1^B\\xcb\\x7f\\xcf\\xa0\\xea\\x7f\\xfd$m|\\x17\\x8d\\x93\\x8d\\x11\\x04T\\x1c\\x85A\\xa6\\x88\\xad\\xb18\\xa2e\\x01\\xf1\\'\\\\D\\x99\\xb3\\xf2Ur\\xd6\\x07\\x87\\x82\\xbf\\x16\\xf6\\xb0\\x82T\\xef\\x1e\\xc0\\xfc\\x01Q*\\x1b\\xae\\x9a\\xa6t\\xb9\\x92\\xe5<H\\xe6\\x80\\xfbr\\x07\\xe5\\xaa\\x98\\x8b#M\\x82eYIa\\xc7\\x8b\\x93\\xd0\\x0c}/\\xb0B\\x06q\\x15\\xe0O\\x8c\\xf4\\xb2jsep\\x1a\\xe3\\x82\\xb3\\x16\\xce\\xd5\\x0b>\\x19;\\xd2U^\\xc9S\\xbf;8\\xbe<\\x9d\\xdd\\x0cG8\\xb1Y\\xa6\\x9c\\\\\\xca\\xe8=\\xd3T;\\xa6Z\\x83\\xc8\\xcd\\x1d\\t\\x87\\x10\\xa8\\xe4\\xda7\\xe0m\"\\xc2\\x15\\xeb\\x11S\\x82p3\\x9a\\x9b\\x8c\\x85\\xd9\\xc6\\xbe\\xef\\x06\\tz\\xe5\\xa0,\\xde@\\xe7t\\x90\\xa9FF\\x88y\\xbd\\x1a,\\x92\\xca@\\x97M\\xd1\\x1em5\\xf0g\\x03Gs\\xddM`/\\xec,\\xdf\\xb1\\xf4\\x95\\xb3\\xe2\\x8d\\x0cQ\\x0e\\xa6Tf\\xfc\\xdc\\xce\\xe6M\\xa7\\x8d8\\xe3\\x06&\\xcf\\x02\\xd2\\x16\\xb4\\xa9\\r\\xc7O\\xe8\\xda\\xf4\\xee\\n\\xe8i\\x1b\\xad\\xcdm\\xf7\\xb7Q\\xb7\\xe2\\x1d\\x80\\xa2\\xa2\\x0f:\\x06\\xfb\\xa5\\'h\\x87\\x90C\\x88J\\x04\\x08\\x89\\td\\x9c\\xc7Yq\\\\\\xc1\\xa9\\x0e\\x0c\\xcd\\t\\xb2}\\x95\\x1b\\x07\\x14\\xda\\x0fm\\xd7[?\\xd5F\\xb5\\x97\\x9e\\x05\\x17\\xda\\x94^P\\x95\\xefy\\x04\\xa3\\xfb\\xe1\\x8eD\\x81#\\x85\\x1b\\x92\\xbfh\\x9c\\x04\\xe6\\xa1e\\xea\\x8a6\\xd5,@\\xeb\\xa8e\\xf4U[NW\\xc6\\xc8\\xd3\\x85\\x16?\\x85\\xe5\\x07_\\xae\\xe2\\xca\\xa29i7\\xd7EefP\\x0b\\x87R\\xf5\\xf0\\xc4\\xdedt\\t\\xc6\\xc5_o\\xa5>\\t\\x06D\\xcd\\xd0\\xddbH@~\\x90W\\x93\\xef\\x1c\\xa1)6\\x16i\\')\\xcaz@\\xf9\\x81\\x8f\\x1e\\x88p\\xdbL\\xfd\\xad\\x0ck\\x90d\\xa6\\xad]\\x8d\\xd3\\xc5\\xb7\\x97\\x9d(-\\xcd<\\x16\\xc6\\xaax^C\\xb7.@G!Z_\\xe2B\\xfc\\xf2\\x1e<\\xfd`o\\x05\\xee;\\xb5\\x82\\xfb\\x130\\xa3\\xf0\\x91\\xd3+\\xdayX\\xde\\xef\\x08\\xb4~\\xb6|N\\xfaq\\x93\\xe2\\xf0\\x81S@0\\xce\\xf8*aU\\xecS\\xdd\\xf9k\\x83\\xeb\\x07\\x80\\xd6\\xe2\\xa3>)h\\x96\\x92\\xf3\\xa6\\xcdAH7\\x93\\xaa\\x87\\xf9\\xaa\\xc3o\\xdd\\xae$o\\xad_\\xed\\xf5aV\\xd5|\\x94m^%\\xa8/\\x04z\\x10\\xee4N\\xf2B.\\x8e;\\xda\\x80\\x9c\\\\\\xe0\\x10\\x14\\x02\\rp\\x91\\xf6\\xda\\xbc\\xe6\\xa8\\x7fjr\\x93\\xc0\\xba\\x11\\xdfL}\\xa6oa?8I\\xf3v}\\xfc\\xa8vm\\xc2k\\x1c\\xdb0\\r\\xcd\\xb5\\x16~\\xa9\"\\xdb\\xbe!\\xbam\\xb5\\xaa\\xa3\\x06W\\'[\\xcf\\x02H\\x93\\xe3\\xa3\\x8aL!:k>\\xcb\\xf6\\xe1\\t5\\xa0\\x80\\x82\\x0f\\xd0#bVz\\xc2\\xee\\xec\\xb4b\\xd7\\x85$>\\x03\\xc6\\xea\\xf5R\\x9d-\\xdaE\\x90x\\xa5\\xdb\\x16\\x90\\x8dnMW\\x06b\\x9d\\xf2\\xd9_F\\x97\\x07\\x01\\t\\xba]\\x91\\xc0\\x1fL\\xe2\\xfb\\xa1\\x95\\xe9\\xa1\\x02\\x1b\\xc5\\xcdy\\xe04P\\xd1\\x00\\x0c\\xd1%\\xbaq\\xe7\\x1fCmS\\x06\\xa26Dt\\x16\\xf7\\x18\\xbd\\xddY\\x88\\x84\\x18n\\xf5\\x88\\xaf\\xc5\\xc5y\\xd0\\x1d[\"K/a\\xbc\\x8d|\\x89k\\x8fQ\\xef9qQ\\xc6[\\xbc\\xb2M\\x86\\xbd\\xaf\\xe7#\\xff&5\\x06\\x88\\x12\\xfe\\xf4\\xf8C\\x8b7\\xce\\xa7\\xbf`\\x7f\\xc2\\xfe\\xef\\x02Uu\"~\\x9b\\x00`\\xa8&D\\xc9\\xe63a\\xbe\\xe5AP@\\xf8\\xf3\\x06!!\\x9f\\x8aL\\xc7\\xe7\\xa5\\x1b \\xb3\\xae\\x18\\xc5\\x14\\x9c\\x89g\\xfa\\x90\\xfa8\\xd3\\xb3h\\xef\\xe7AA\\x05Ys\\xfa\\xc3\\t\\x808v\\x8dk\\xb2\\xcf\\x0f\\\\\\xfe\\xbe\\xd5\\x9e^\\xa7Q\\x1a\\xe5\\xb9+/\\xb46\\xf0\\x81[\\xb2\\x17\\x08\\x8d\\xca,\\x9b\\xc9\\xa2\\xed\\xa4\\x1d\\x81G\\xfd\\xb26\\xbd\\xa3b3\\r\\xca\\x1b\\xff\\x08\\x8a)\\xdf\\xd8\\x00\\x1b\\xa3{\\xeb\\x8eE\\xe2\\xb5\\x91(\\x91\\xa6\\x95\\xfe\\xa0\\xe7K\\xc1\\x1d>\\x90\\xd0hU\\xc9\\xa1\\xdb7)\\xe4\\x19Y\\xc9\\x81\\x19\\xd7\\r\\xba\\x07\\x93d\\xe2\\x1d\\xcd|A\\xa9{N\\x12\\xbdZ\\x06\\x87\\x01\\xc9\\x06+? \\xc4\\xaf\\xfcR/e\\x06R\\x02\\x0c\\x12\\xce\\x00\\xeen\\x0c\\xeaO=\\xf6\\xa8\\x8a]\\x84\\xee\\xf2_H\\x8b\\x12\\xda&C\\xe26F\\xab\\xb9gJ\\x15\\x16\\x82\\xbe\\xca/\\x1e\"LDn\\xdb\\xf1\\x1c\\xf52%6s\\xaf\\xe2\\xd5\\x88Q\\xebY\\x13s\\xbfi\\xd4\\xca;4\\xf8`\\xad(\\x9d\\xb6\\x9a\\x88[\\x00*\\x81F\\x8f\\xfa\\xd9\\x0e\\x0eS\\xffm\\xc0\\\\\\x1b\\nG\\xf0\\x06\"\\xb5\\x8d\\xad7\\xe4\\xa4O\\x8c7\\x7ff\\xe0RI\\x00\\x93\\x99\\x983\\xce0\\x84\\x17}}\\xa4\\x13\\xdd\\x9a1\\xf1Wd5\\x00\\x8f_\\xba\\xb8\\x97\\x90YI\\xd1:\\x8dd\\xe6\\xb7\\xee\\xc4\\xa5\\xcd\\xa7qn\\x0f\\xe2\\xfcB\\xc1L\\x15}t\\xf5t\\xd4\\xc5\\xa5K\\xa2\\x99\\xc1y\\xbb!@\\x0b\\xce?#\\xf8\\xc3\\xcc\\xfd\\xb8\\x88 \\x83\\xc7\\x9b\\xc2uF\\xffC\\xb3S\\x9fyY\\xa9\\xe1\\x83\\xf10\\xe1\\x1fI\\xac\\xdc O\\x97\\xaa<\\xd6\\xf6\\xfc\\x89\\xfcpa\\xbe\\xf7\\xd6\\x8e\\xc3m\\xf3o\\x1ba\\xf6M\\x1f\\xad\\xfa\\xd5\\xb1\\xfb\\xe1\\x1f\\x9b\\xcf\\x9d\\x8c\\x94lD\\xf5>\\x12R\\x93\\x0b}aK\\xaa\\xd3\\xa8 \\x18y\\x1aB/\\xc3\\xc9\\x0cW>\\xa6|\\x00_\\xa9R\\xb5\\xbf,1\\xb4\\x98o\\n\\x88O\\xd8\\tpY\\x88NL\\xd4t\\x83f\\xce\\xf5\\xcfg\\x11N7@\\xa2\\x80\\xf2\\x10\\xea\\td\\xc4W\\xfc\\xec\\x81`\\x15G-\\xf7\\x86*H\\x85\\xe4V\\x8e\\xfd\\x91:\\x1b\\xbd\\xf4S<\\x14\\xfe\\xb5\\x05\\x84\\xe5\\x10\\xf7T4\\xc3\\xcf\\xbc_\\xc2Z1\\x90\\xc9\\xe2\\xf8\\xb1#\\xea)\\x8cUz\\xadw\\x8b\\xa4UI\\xc8\\xfb\\xce\\xc8\\xb8\\xbd;\\x9e\\x80*\\xc6jf\\xba\\x8a\\x80\\x82l\\xce\\xd1\\xa4Q\\xc36Y\\xfe\\xcc~\\x07\\\\r\\x90\\xa9\\x1d\\xd8\\xa3\\xda~\\x8c\\x0c\\x81\\xd8\\x17w\\xb0\\x9a\\x16,\\x19TZ\\x80\\xc8P\\xd03\\x01\\xc6\\xf8y\\xf9\\x84\\xf3\\x1fE\\xe7\\xd9^\\x89\\xd3>w\\xcb<\\xad\\xee\\x14\\x08\\xcb\\x99\\xee\\x94t\\xac0\\xa2Uy\\xba\\x84\\xa9P\\xa3\\xe8\\x13\\x01\\x13\\x14\\xbd\\t3\\xd7X\\xb4m\\xb2\\xce\\xfa\\x8423\\xa5\\x16G\\xca\\xb9@\\xcc\\xf5\\\\\\x95\\xbfDC\\x89\\xcf\\xc9{\\xaaL\\xf2\\xd4\\x9b\\xbcI{NBx\\'\\xe7\\xea{\\xe6\\xe4\\xfe\\xd9\\x10\\xcb\\x8c\\xbf\\xb5\\x8c\\x87k\\x8c\\xb4\\x85c\\x8c\\x91\\xe5\\xd2[\\xd2\\x95\\xaa\\xc3\\x00\\xc5y{\\x1a\\x05\\xd8\\x12M\\x9f\\x083i>.\\xb0Y\\xb2\\xbb\\xc2\\x96*\\x0e3\\x9fW\\x85\\x12\\x10(\\xc50Idji\\xc2\\x9c\\xc1\\x1a\\xb4\\x8e\\x14D(\\xde\\xa8dp\\xbc\\xe5l\\xc3_.\\xa8}\\xaftSn\\xc1\\xde%\\xe5\\x163\\x14\\x98\\x86\\x9e\"\\x0e@\\x0b\\x18J\\x96\\x8fb\\x85\\xf1\\x93\\x1bO\\x92P\\n\\xc8v\\x05hW+\\xc3\\x9c#]K#\\xf3\\xc1\\t\\xe2C\\x926\\xd0/*4\\xdc\"\\x1d\\x87\\xdf\\x08\\xde9\\xa2\\xd7^\\x9b=\\xc5\\xf8\\x04\\x9aw\\x10\\x8e\\xf7\\xe30\\xe7\\x02\\xa3 \\xcbA\\x83\\xf5y\\xc8\\x7f\\x12\\x99\\xbe\\xda)\\xd6\\x9cg\\x0e\\xbeE\\xde\\x14e>\\x95\\x80j>\\x007\\xa5\\xc6\\xb0V@2\\x01G\\x94\\xcb\\xce$\\xad(\\xdf\\xa4I\\xa5qL+\\xe38*h\\x8f\\xfaX\\xc8$\\xec\\x05\\xab\\x89+\\xb5_.\\x88\\x0f\\xaa\\xa8\\xb6\\xccj#\\xaf\\x00S\\xc88\\xe4\\xe7t?\\xcclS\\x15\\xa8\\x87l\\x90\\xbc\\x16L\\x93\\xad\\x7f\\xb7\\x94\\x88\\x95\\xab\\xb0\\xb1\\xbai\\xd6\\xc9\\xe5\\xe1\\xf6\\x8e\\xa56\\xc7\\xe3o\\xb6\\xb3\\x8aj\\x8cC\\x059Uih\\x101\\xb0\\xdd\\xcf\\xbdBa\\xa5m\\xee9Uxr\\xdf:\\xfdtBw\\x05?.\\xe9\\'B\\xf5\\x10;\\xe4\\x1aR_\\x9d\\tps\\x98H\\xf5$#\\xe4\\xfa\\x92~\\\\\\xac&\\x85\\xbb\\xa5\\x02Q\\x1c2#\\x0f\\xe0\\xc3\\x8cH\\x9a\\xe3\\x84\\xcc\\xf9\\xaa\\xfb#v\\xde\\x97\\x8f\\x94F\\x14H\\xcf/\\x17\\xc6N\\xc3\\xff;{`\\xf8t\\xee\\xd5\\x8f\\xce\\x94\\xd3\\xae%0O\\x18\\x16\\xb3\\xda/\\x1d\\x10\\x88\\xee\\xb0\\x84]\\x0b\\xbfkw\\xa8\\x1d\\xbc\\x98d\\x89\\x13eB\\xea\\xf4<\\xa9\\xa2\\xd9\\xe40\\x08%\\n\\xeb}\\xc8\\x89!\\xb0\\xb0`\\x15\\xd9\\x1c_q\\x93\\xdc\\x10Q\\x19d\\x03cB\\x00LW,\"\\xb9J\\x14F\\xd7\\xaf\\xd8\\x8d\\x14\\x00\\x07\\x8c\\xe9\\xc4\\xa2\\xf2\\xbc\\xd8\\xfb\\xa1\\xe9*Az\\xa2\\xf4Xl!\\x9e\\xce!\\xa4\\x15\\xe0}\\x8e\\xe9)\\xc2-\\x00\\x03\\x1e\\xd6 ugTb\\xba\\xefz\\xda\\xef\\xce$\\xc11\\xf6IwX\\x7f\\x13o\\xcc\\xad\\xb2;}\\x8f\\xd4\\x1bQ>\\x05\\xc2\\xfe\\x17X\\xcb\\x17\\x16\\x95\\x154K\\x9ek\\x99\\xbb\\xba\\x87{6\\x8dh4\\xe4v\\xd3$Qo\\xd5 \\x1b\\x99\\x88@C\\r|b0FW6\\x16\\xb7\\x16\\xc0\\xcd\\xbc\\x96\\xf9\\xb1<\\xec^uA22yCU36<\\x9aS\\xa0\\xe4LS\\xa0\\r\\x060~\\x98ISY\\xc6f\\xa4sW\\xeaT\\xd7\\x14,v\\xea)\\xa1J\\xca\\xef\\xfa\\xd5\\xb0\\xc3\\x9a\\x10\\xe3a\\xf6\\x9d^\\xb1\\xd23\\xfd\\xa3x\\x83\\x1c#\\xb5\\xb0\\x9b\\x83\\xa0\\x14\\\\\\xc5X\\xd7\\xa5 \\x0e\\xe4\\xbe\\xd2\\x86\\xd7\\xef\\tV\\x80\\xa4\\x84d\\xa0\\x89\\xfb\\x91o\\n\\xbb{\\x83\\n&\\xd3\\x8f\\xbd;\\xbf\\xe6\\xd4\\x06m\\x81\\xfe\\x98\\xa6\\x81\\xe7\\x12_\\t\\x8d\\x13\\x1d\\xebf\\xe9\\x97\\x8d\\xbf\\xa6\\x0e^v\\xebG\\xd9\\xeaI\\x02Xu\\xfa\\xcf\\xcc=\\x00\\xc0>\\x1eM\\x93@\\x81\\xb1x\\xe33Mp/bq\\x85v\\x0e\\xc1\\xa8\\x07\\x15\\x1b\\x04\\xe6\\x0f\\x9dD>\\xb8\\x8b\\x9b\\rN| R\\x15\\x00\\x03\\xfe\\xb4\\xa1\\xfe\\xa0\\xa6\\t\\xa0t\\x83\\xe9\\xa9\\xa0\\x14c(\\xabn\\x84h|\\xdfghj(\\xf0\\xbc>|\\x1d\\x85{\\xe2\\x89\\x16\\t\\xbb+\\x0b\\xb1+\\x9cC\\xcbZ\\x10;\\xb1\\x9e\\x1e8\\x9cE\\n5k\\xaaY\\x8c9\\xf0=`\\x82mB\\xd2\\xce|\\x85\\x90\\xaf\\xb2=\\xbf\\xbd\\x8dl\\xef/hO\\xaeJ\\xdb\\x87\\xaa#S\\xc0{\\xa5~\\xf8\\xaa#\\x8c\\xe1\\x0c/$\\xb4{\\xdal\\xb7d7}[\\xfc\\x99\\xd2r\\x13\\xdb6\\xb3^\\xddz\\xc1\\xa3\\x1e\\x8bj\\xa8\\xad\\xa0\\x13\\x94\\xe9\\x00\\xdb\\xc7?w\\x8c\\xdcN\\x92\\xaf\\xda\\x9d\\xd3\\x1a\\x1c\\xd7\\xba\\x17_m\\x9e\\xd8/L=\\xac\\xe2\\x95kF\\xc9\\xf6w/\\xb7\\x1f\\xf8\\x8f\\xa8\\x9f\\x1dkfD*\\xfac$\\xa4aO\\xed\\xfaW\\xc5\\xa9\\x87>\\xac\\xbd\\xc6\\xa8\\x8d\\x16\\x82$\\xcf\\xc1\\x9c\\xfc[}\\x8fY\\x0b\\'\\xe0\\xd1\\xf4\\xcd\\x00\\xcb8\\xde\\xf6\\x11`\\x0b|\\xf1\\xc1\\xd8\\x84Z)\\x05\\x01\\x95\\\\\\xfd\\x08\\xde\\xda\\xc5M\\xfd\\x1fM\\x8f\\xe7\\xba!\\xf6\\xb2\\xe3|\\xc9\\xc6\\xfb\\xf6`\\x12R\\xa8\\xfbx\\x81\\x12\\x93\\xcd\\x07\\xb9\\xe5@\\xda\\xfdK\\x11\\xae\\xa1J\\xb8\\x81\\x8b\\x06\\xdd\\xb4\\x9d\\xe8\\x04\\xa37?NC\\xeb\\xc0\\xc6\\r\\xe2\\x96\\\\\\xbd.\\xa8a\\xcaz\\'\\xc7F{\\x02 \\xaaJ<\\xc0\\x1dr\\x9e\\xdf\\x91\"N\\xc1Ul]\\x88\\x05\\xf0\\xd3\\x95\\xad\\x08\\xf8\\xc2\\xbf\\xad7\\xcc\\n\\x17O\\x18i\\xb7\\x19n]\\t\\xcd\\tI\\xb2\\x98\\x0e8$\\xec\\xcas\\x96\\xa1K\\x1eI\\x971\\xccau\\x94=O\\xf8P\\x11\\xfcA\\xbd\\x07\\xe7\\xcf\\xaf\\xe3\\xff0\\x92\\xf9\\xc0\\xa0\\xb5\\x87\\xaf\\xb5\\xc1\\x1amM\\x96\\x1b\\x88\\xffr\\xef\\x8e\\x16\\x8acD\\xa9\\xb1\\x98\\x08c\\xc8u5\\xf9\\xc0\\xbc`\\xa1\\x15\\xe3\\xc2\\x10\\xed\\xbbO\\xfa3\\xa1\\x1e\\x08LY\\xee\\xb1\\xc0F\\\\\\xcf\\xf8\\x03\\x03\\x0b~6\\t\\xf1o\\x11\\xc8\\xac)!\\xd3\\xe4\\xcfM\\x0c\\xa7\\x12c\\xa5\\n.\\xf5\\xc6\\x88[\\xbe\\x85\\x91\\xa9\\x87\\xf5\\xde\\x956\\xbd;\\x01\\xbe&\\x83*\\xbey\\xd0y\\xe0\\x02]q8o\\x8c\\xd2\\x8c\\x17/\\x9d\\x7f\\x83|c\\x17UC\\x19!9k\\xdefr\\xbd\\x0fQBc.\\'\\xc9\\x1d\\xe4c*\\xaf\\xfb\\x8f`\\'\\xfe\\x0c\\xb8\\xbd\\x17\\x0ba\\xf2\\x8b\\x04\\xe9\\xb4\\xa2/W\\xac\\xc5\\xaa\\xefu\\xe8P\\xe9,\\xe8\\x06\"\\xe2Y\\x9c\\x92\\x91QyR\\xfe\\x8a\\x0c\\xaf\\xdc\\x98\\xc7m\\xb9\\xc5\\x8e\\xbd\\x8fu\\xe0\\x9e\\x0b;w\\xbe\\xee\\xf5\\xed\\xb1\\xd83Cp\\xdbM\\x1es\\xa1\\xd4\\x0f\\xde\\x99\\x14CU\\xd1\\xd4\\xf7P\\xfc\\x18\\x99\\xaa`*-\\xef\\xa4\\xbd5\\xc96\\xc8\\xae\\r/\\x17\\x8e\\x00t\\x95\\xfa\\xab\\x88\\xe9\\xc3\\xd5\\x87\\xd0\\xe0\\xf07s\\xb8\\xa0\\x18\\xc5\\xc1p\\x1c(\\x0c\\x1c\\\\\\xfa\\xdf\\xa9\\xecU\\x83\\x8d\\x99\\x90\\xdf\"9\\x1a\\xcf\\x855\\x92\\xe6\\xbd\\xff\\xfc\\x16\\x89\\xb5\\xd7\\xcd\\x81\\x8dt\\xbd\\xb0/\\r6U\\xc8I\\xc9\\x9d\\xca\\x1aU\\xa7\\xe4\\xc5[\\xe9\\xaf\\x02#!\\x02J\\x00\\x00\\x00\\x05'"
      ]
     },
     "execution_count": 6,
     "metadata": {},
     "output_type": "execute_result"
    }
   ],
   "source": [
    "signature"
   ]
  },
  {
   "cell_type": "code",
   "execution_count": 7,
   "metadata": {},
   "outputs": [
    {
     "name": "stdout",
     "output_type": "stream",
     "text": [
      "Signature bytes-size:  7401\n"
     ]
    }
   ],
   "source": [
    "print(\"Signature bytes-size: \", len(signature))"
   ]
  },
  {
   "cell_type": "markdown",
   "metadata": {},
   "source": [
    "### Verifying a Signature associated with a Message ###"
   ]
  },
  {
   "cell_type": "code",
   "execution_count": 8,
   "metadata": {},
   "outputs": [
    {
     "name": "stdout",
     "output_type": "stream",
     "text": [
      "Is signature correct ?  True\n"
     ]
    }
   ],
   "source": [
    "print(\"Is signature correct ? \", sphincs.verify(m, signature, pk))"
   ]
  },
  {
   "cell_type": "code",
   "execution_count": null,
   "metadata": {},
   "outputs": [],
   "source": [
    "sphincs.set_z(2)"
   ]
  },
  {
   "cell_type": "code",
   "execution_count": null,
   "metadata": {},
   "outputs": [],
   "source": [
    "signature2 = sphincs.sign(m, sk)\n",
    "print(\"Signature bytes-size: \", len(signature2))"
   ]
  },
  {
   "cell_type": "code",
   "execution_count": null,
   "metadata": {},
   "outputs": [],
   "source": [
    "print(\"Is signature correct ? \", sphincs.verify(m, signature2, pk))"
   ]
  },
  {
   "cell_type": "markdown",
   "metadata": {},
   "source": [
    "### Trying to find secret key with a Brute Force Attack on Secret Key"
   ]
  },
  {
   "cell_type": "code",
   "execution_count": 9,
   "metadata": {},
   "outputs": [
    {
     "name": "stdout",
     "output_type": "stream",
     "text": [
      "Value of i is 168 of 115792089237316195423570985008687907853269984665640564039457584007913129639936\r"
     ]
    },
    {
     "ename": "KeyboardInterrupt",
     "evalue": "",
     "output_type": "error",
     "traceback": [
      "\u001b[1;31m---------------------------------------------------------------------------\u001b[0m",
      "\u001b[1;31mKeyboardInterrupt\u001b[0m                         Traceback (most recent call last)",
      "\u001b[1;32md:\\sphincs-compressed 2\\Sphincs Example - Copy.ipynb Cell 15\u001b[0m line \u001b[0;36m<cell line: 4>\u001b[1;34m()\u001b[0m\n\u001b[0;32m     <a href='vscode-notebook-cell:/d%3A/sphincs-compressed%202/Sphincs%20Example%20-%20Copy.ipynb#X20sZmlsZQ%3D%3D?line=9'>10</a>\u001b[0m \u001b[39m# But Because we are brute forcing Secret Key, messages are forged before\u001b[39;00m\n\u001b[0;32m     <a href='vscode-notebook-cell:/d%3A/sphincs-compressed%202/Sphincs%20Example%20-%20Copy.ipynb#X20sZmlsZQ%3D%3D?line=10'>11</a>\u001b[0m \u001b[39m# We don't need to create a really random one (0 is fine)\u001b[39;00m\n\u001b[0;32m     <a href='vscode-notebook-cell:/d%3A/sphincs-compressed%202/Sphincs%20Example%20-%20Copy.ipynb#X20sZmlsZQ%3D%3D?line=11'>12</a>\u001b[0m sk_crack \u001b[39m+\u001b[39m\u001b[39m=\u001b[39m pk  \u001b[39m# Public Key\u001b[39;00m\n\u001b[1;32m---> <a href='vscode-notebook-cell:/d%3A/sphincs-compressed%202/Sphincs%20Example%20-%20Copy.ipynb#X20sZmlsZQ%3D%3D?line=13'>14</a>\u001b[0m sig_crack \u001b[39m=\u001b[39m sphincs\u001b[39m.\u001b[39;49msign(m, sk_crack)  \u001b[39m# Creating a signature\u001b[39;00m\n\u001b[0;32m     <a href='vscode-notebook-cell:/d%3A/sphincs-compressed%202/Sphincs%20Example%20-%20Copy.ipynb#X20sZmlsZQ%3D%3D?line=15'>16</a>\u001b[0m \u001b[39m# Check if signature could be trust with the Public Key\u001b[39;00m\n\u001b[0;32m     <a href='vscode-notebook-cell:/d%3A/sphincs-compressed%202/Sphincs%20Example%20-%20Copy.ipynb#X20sZmlsZQ%3D%3D?line=16'>17</a>\u001b[0m \u001b[39mif\u001b[39;00m sphincs\u001b[39m.\u001b[39mverify(sig_crack, m, pk):\n",
      "File \u001b[1;32md:\\sphincs-compressed 2\\package\\sphincs.py:145\u001b[0m, in \u001b[0;36mSphincs.sign\u001b[1;34m(self, m, sk)\u001b[0m\n\u001b[0;32m    142\u001b[0m \u001b[39mfor\u001b[39;00m i \u001b[39min\u001b[39;00m \u001b[39mrange\u001b[39m(\u001b[39m0\u001b[39m, \u001b[39m4\u001b[39m):\n\u001b[0;32m    143\u001b[0m     sk_tab\u001b[39m.\u001b[39mappend(sk[(i \u001b[39m*\u001b[39m n):((i \u001b[39m+\u001b[39m \u001b[39m1\u001b[39m) \u001b[39m*\u001b[39m n)])\n\u001b[1;32m--> 145\u001b[0m sig_tab \u001b[39m=\u001b[39m spx_sign(m, sk_tab)\n\u001b[0;32m    147\u001b[0m sig \u001b[39m=\u001b[39m sig_tab[\u001b[39m0\u001b[39m]  \u001b[39m# R\u001b[39;00m\n\u001b[0;32m    149\u001b[0m \u001b[39mfor\u001b[39;00m i \u001b[39min\u001b[39;00m sig_tab[\u001b[39m1\u001b[39m]:  \u001b[39m# SIG FORS\u001b[39;00m\n",
      "File \u001b[1;32md:\\sphincs-compressed 2\\src\\sphincs.py:92\u001b[0m, in \u001b[0;36mspx_sign\u001b[1;34m(m, secret_key)\u001b[0m\n\u001b[0;32m     88\u001b[0m \u001b[39m# print(\"sign fors\")\u001b[39;00m\n\u001b[0;32m     89\u001b[0m \u001b[39m# print(pk_fors)\u001b[39;00m\n\u001b[0;32m     91\u001b[0m adrs\u001b[39m.\u001b[39mset_type(ADRS\u001b[39m.\u001b[39mTREE)\n\u001b[1;32m---> 92\u001b[0m sig_ht, wots_counters \u001b[39m=\u001b[39m ht_sign(pk_fors, secret_seed, public_seed, idx_tree, idx_leaf)\n\u001b[0;32m     93\u001b[0m \u001b[39m# print(\"Counters\", wots_counters)\u001b[39;00m\n\u001b[0;32m     94\u001b[0m \u001b[39m# print(\"sign sig_ht\")\u001b[39;00m\n\u001b[0;32m     95\u001b[0m \u001b[39m# print(sig_ht)\u001b[39;00m\n\u001b[0;32m     96\u001b[0m \u001b[39m# sig_ht = sig_ht[4:]\u001b[39;00m\n\u001b[0;32m     98\u001b[0m sig \u001b[39m+\u001b[39m\u001b[39m=\u001b[39m [sig_ht]\n",
      "File \u001b[1;32md:\\sphincs-compressed 2\\src\\hypertree.py:28\u001b[0m, in \u001b[0;36mht_sign\u001b[1;34m(m, secret_seed, public_seed, idx_tree, idx_leaf)\u001b[0m\n\u001b[0;32m     25\u001b[0m adrs\u001b[39m.\u001b[39mset_tree_address(idx_tree)\n\u001b[0;32m     27\u001b[0m counters \u001b[39m=\u001b[39m []\n\u001b[1;32m---> 28\u001b[0m sig_tmp, counter \u001b[39m=\u001b[39m xmss_sign(m, secret_seed, idx_leaf, public_seed, adrs\u001b[39m.\u001b[39;49mcopy())\n\u001b[0;32m     29\u001b[0m counters\u001b[39m.\u001b[39mextend(counter)\n\u001b[0;32m     30\u001b[0m sig_ht \u001b[39m=\u001b[39m sig_tmp\n",
      "File \u001b[1;32md:\\sphincs-compressed 2\\src\\xmss.py:60\u001b[0m, in \u001b[0;36mxmss_sign\u001b[1;34m(m, secret_seed, idx, public_seed, adrs)\u001b[0m\n\u001b[0;32m     57\u001b[0m     \u001b[39melse\u001b[39;00m:\n\u001b[0;32m     58\u001b[0m         ki \u001b[39m+\u001b[39m\u001b[39m=\u001b[39m \u001b[39m1\u001b[39m\n\u001b[1;32m---> 60\u001b[0m     auth \u001b[39m+\u001b[39m\u001b[39m=\u001b[39m [treehash(secret_seed, ki \u001b[39m*\u001b[39;49m \u001b[39m2\u001b[39;49m\u001b[39m*\u001b[39;49m\u001b[39m*\u001b[39;49mj, j, public_seed, adrs\u001b[39m.\u001b[39;49mcopy())]\n\u001b[0;32m     62\u001b[0m adrs\u001b[39m.\u001b[39mset_type(ADRS\u001b[39m.\u001b[39mWOTS_HASH)\n\u001b[0;32m     63\u001b[0m adrs\u001b[39m.\u001b[39mset_key_pair_address(idx)\n",
      "File \u001b[1;32md:\\sphincs-compressed 2\\src\\xmss.py:22\u001b[0m, in \u001b[0;36mtreehash\u001b[1;34m(secret_seed, s, z, public_seed, adrs)\u001b[0m\n\u001b[0;32m     20\u001b[0m adrs\u001b[39m.\u001b[39mset_type(ADRS\u001b[39m.\u001b[39mWOTS_HASH)\n\u001b[0;32m     21\u001b[0m adrs\u001b[39m.\u001b[39mset_key_pair_address(s \u001b[39m+\u001b[39m i)\n\u001b[1;32m---> 22\u001b[0m node \u001b[39m=\u001b[39m wots_pk_gen(secret_seed, public_seed, adrs\u001b[39m.\u001b[39;49mcopy())\n\u001b[0;32m     24\u001b[0m adrs\u001b[39m.\u001b[39mset_type(ADRS\u001b[39m.\u001b[39mTREE)\n\u001b[0;32m     25\u001b[0m adrs\u001b[39m.\u001b[39mset_tree_height(\u001b[39m1\u001b[39m)\n",
      "File \u001b[1;32md:\\sphincs-compressed 2\\src\\wots.py:48\u001b[0m, in \u001b[0;36mwots_pk_gen\u001b[1;34m(secret_seed, public_seed, adrs)\u001b[0m\n\u001b[0;32m     46\u001b[0m     adrs\u001b[39m.\u001b[39mset_hash_address(\u001b[39m0\u001b[39m)\n\u001b[0;32m     47\u001b[0m     sk \u001b[39m=\u001b[39m prf(secret_seed, adrs\u001b[39m.\u001b[39mcopy())\n\u001b[1;32m---> 48\u001b[0m     tmp \u001b[39m+\u001b[39m\u001b[39m=\u001b[39m \u001b[39mbytes\u001b[39m(chain(sk, \u001b[39m0\u001b[39;49m, w \u001b[39m-\u001b[39;49m \u001b[39m1\u001b[39;49m, public_seed, adrs\u001b[39m.\u001b[39;49mcopy()))\n\u001b[0;32m     50\u001b[0m wots_pk_adrs\u001b[39m.\u001b[39mset_type(ADRS\u001b[39m.\u001b[39mWOTS_PK)\n\u001b[0;32m     51\u001b[0m wots_pk_adrs\u001b[39m.\u001b[39mset_key_pair_address(adrs\u001b[39m.\u001b[39mget_key_pair_address())\n",
      "File \u001b[1;32md:\\sphincs-compressed 2\\src\\wots.py:20\u001b[0m, in \u001b[0;36mchain\u001b[1;34m(x, i, s, public_seed, adrs)\u001b[0m\n\u001b[0;32m     17\u001b[0m \u001b[39mif\u001b[39;00m (i \u001b[39m+\u001b[39m s) \u001b[39m>\u001b[39m (w \u001b[39m-\u001b[39m \u001b[39m1\u001b[39m):\n\u001b[0;32m     18\u001b[0m     \u001b[39mreturn\u001b[39;00m \u001b[39m-\u001b[39m\u001b[39m1\u001b[39m\n\u001b[1;32m---> 20\u001b[0m tmp \u001b[39m=\u001b[39m chain(x, i, s \u001b[39m-\u001b[39;49m \u001b[39m1\u001b[39;49m, public_seed, adrs)\n\u001b[0;32m     22\u001b[0m adrs\u001b[39m.\u001b[39mset_hash_address(i \u001b[39m+\u001b[39m s \u001b[39m-\u001b[39m \u001b[39m1\u001b[39m)\n\u001b[0;32m     23\u001b[0m tmp \u001b[39m=\u001b[39m \u001b[39mhash\u001b[39m(public_seed, adrs, tmp, n)\n",
      "File \u001b[1;32md:\\sphincs-compressed 2\\src\\wots.py:20\u001b[0m, in \u001b[0;36mchain\u001b[1;34m(x, i, s, public_seed, adrs)\u001b[0m\n\u001b[0;32m     17\u001b[0m \u001b[39mif\u001b[39;00m (i \u001b[39m+\u001b[39m s) \u001b[39m>\u001b[39m (w \u001b[39m-\u001b[39m \u001b[39m1\u001b[39m):\n\u001b[0;32m     18\u001b[0m     \u001b[39mreturn\u001b[39;00m \u001b[39m-\u001b[39m\u001b[39m1\u001b[39m\n\u001b[1;32m---> 20\u001b[0m tmp \u001b[39m=\u001b[39m chain(x, i, s \u001b[39m-\u001b[39;49m \u001b[39m1\u001b[39;49m, public_seed, adrs)\n\u001b[0;32m     22\u001b[0m adrs\u001b[39m.\u001b[39mset_hash_address(i \u001b[39m+\u001b[39m s \u001b[39m-\u001b[39m \u001b[39m1\u001b[39m)\n\u001b[0;32m     23\u001b[0m tmp \u001b[39m=\u001b[39m \u001b[39mhash\u001b[39m(public_seed, adrs, tmp, n)\n",
      "    \u001b[1;31m[... skipping similar frames: chain at line 20 (10 times)]\u001b[0m\n",
      "File \u001b[1;32md:\\sphincs-compressed 2\\src\\wots.py:20\u001b[0m, in \u001b[0;36mchain\u001b[1;34m(x, i, s, public_seed, adrs)\u001b[0m\n\u001b[0;32m     17\u001b[0m \u001b[39mif\u001b[39;00m (i \u001b[39m+\u001b[39m s) \u001b[39m>\u001b[39m (w \u001b[39m-\u001b[39m \u001b[39m1\u001b[39m):\n\u001b[0;32m     18\u001b[0m     \u001b[39mreturn\u001b[39;00m \u001b[39m-\u001b[39m\u001b[39m1\u001b[39m\n\u001b[1;32m---> 20\u001b[0m tmp \u001b[39m=\u001b[39m chain(x, i, s \u001b[39m-\u001b[39;49m \u001b[39m1\u001b[39;49m, public_seed, adrs)\n\u001b[0;32m     22\u001b[0m adrs\u001b[39m.\u001b[39mset_hash_address(i \u001b[39m+\u001b[39m s \u001b[39m-\u001b[39m \u001b[39m1\u001b[39m)\n\u001b[0;32m     23\u001b[0m tmp \u001b[39m=\u001b[39m \u001b[39mhash\u001b[39m(public_seed, adrs, tmp, n)\n",
      "File \u001b[1;32md:\\sphincs-compressed 2\\src\\wots.py:23\u001b[0m, in \u001b[0;36mchain\u001b[1;34m(x, i, s, public_seed, adrs)\u001b[0m\n\u001b[0;32m     20\u001b[0m tmp \u001b[39m=\u001b[39m chain(x, i, s \u001b[39m-\u001b[39m \u001b[39m1\u001b[39m, public_seed, adrs)\n\u001b[0;32m     22\u001b[0m adrs\u001b[39m.\u001b[39mset_hash_address(i \u001b[39m+\u001b[39m s \u001b[39m-\u001b[39m \u001b[39m1\u001b[39m)\n\u001b[1;32m---> 23\u001b[0m tmp \u001b[39m=\u001b[39m \u001b[39mhash\u001b[39;49m(public_seed, adrs, tmp, n)\n\u001b[0;32m     25\u001b[0m \u001b[39mreturn\u001b[39;00m tmp\n",
      "File \u001b[1;32md:\\sphincs-compressed 2\\src\\tweakables.py:29\u001b[0m, in \u001b[0;36mhash\u001b[1;34m(seed, adrs, value, counter, digest_size)\u001b[0m\n\u001b[0;32m     26\u001b[0m \u001b[39mif\u001b[39;00m counter \u001b[39mis\u001b[39;00m \u001b[39mnot\u001b[39;00m \u001b[39mNone\u001b[39;00m:\n\u001b[0;32m     27\u001b[0m     m\u001b[39m.\u001b[39mupdate(int_to_bytes(counter))\n\u001b[1;32m---> 29\u001b[0m hashed \u001b[39m=\u001b[39m m\u001b[39m.\u001b[39mdigest()[:digest_size]\n\u001b[0;32m     31\u001b[0m \u001b[39mreturn\u001b[39;00m hashed\n",
      "\u001b[1;31mKeyboardInterrupt\u001b[0m: "
     ]
    }
   ],
   "source": [
    "sk_crack = bytes()\n",
    "end_val = 2 ** (sphincs._n * 8)\n",
    "\n",
    "for i in range(0, 2 ** (sphincs._n * 8)):\n",
    "    print(f\"Value of i is {i} of {end_val}\", end=\"\\r\")\n",
    "    sk_crack = i.to_bytes(sphincs._n, 'big')  # Secret Key\n",
    "\n",
    "    # Random Secret PRF, important to prevent forged messages from actual messages\n",
    "    sk_crack += bytes(sphincs._n)\n",
    "    # But Because we are brute forcing Secret Key, messages are forged before\n",
    "    # We don't need to create a really random one (0 is fine)\n",
    "    sk_crack += pk  # Public Key\n",
    "\n",
    "    sig_crack = sphincs.sign(m, sk_crack)  # Creating a signature\n",
    "\n",
    "    # Check if signature could be trust with the Public Key\n",
    "    if sphincs.verify(sig_crack, m, pk):\n",
    "        print(\"Secret Key Found: \", sk_crack,\n",
    "              \"\\nWith main Private Seed: \", sk_crack[:sphincs._n])\n",
    "        print(\"Cycles: \", i)\n",
    "        break\n",
    "\n",
    "print(\"\\nDid we found the actual Private Seed? \",\n",
    "      sk[:sphincs._n] == sk_crack[:sphincs._n])\n",
    "\n",
    "if sk[:sphincs._n] != sk_crack[:sphincs._n]:\n",
    "    print(\"We found a collision with the main seed!\")\n"
   ]
  },
  {
   "cell_type": "markdown",
   "metadata": {},
   "source": [
    "### Trying to forge message with found Key ###"
   ]
  },
  {
   "cell_type": "code",
   "execution_count": null,
   "metadata": {},
   "outputs": [],
   "source": [
    "m2 = b'The pen is mightier than the sword ... if the sword is very short, and the pen is very sharp.'\n",
    "\n",
    "signature2 = sphincs.sign(m2, sk_crack)\n",
    "\n",
    "print(len(signature2))\n"
   ]
  },
  {
   "cell_type": "code",
   "execution_count": null,
   "metadata": {},
   "outputs": [],
   "source": [
    "print(\"Is signature Correct ? \", sphincs.verify(signature2, m, pk))\n"
   ]
  },
  {
   "cell_type": "markdown",
   "metadata": {},
   "source": [
    "Our signature is wrong because we tried finding the secret key using only $m$ signature, with $m_2$, this kind of collision doesn't work !\n",
    "We need to find the real secret key in order to forge our own message, and so test every possibilities."
   ]
  },
  {
   "cell_type": "markdown",
   "metadata": {},
   "source": [
    "### Graft Fault Attack on $SPHINCS^+$ Framework\n",
    "\n",
    "We will try to attack $SPHINCS^+$ framework by grafting a fake tree on the main hypertree by exploiting an error generated by the signing alogirthm as it can be explained in this document : https://eprint.iacr.org/2018/102.pdf"
   ]
  },
  {
   "cell_type": "markdown",
   "metadata": {},
   "source": [
    "### Instantiate a $SPHINCS^+$ Object and Setting parameters ###\n",
    "\n",
    "We will be using :\n",
    "   - Security Parameter: $n=2$\n",
    "   - Winternitz Parameter: $w=16$\n",
    "   - Hypertree Height: $h=4$\n",
    "   - Hypertree Layers: $d=2$\n",
    "   - $FORS$ Trees Number: $k=4$\n",
    "   - $FORS$ Trees Height: $a=2$"
   ]
  },
  {
   "cell_type": "code",
   "execution_count": null,
   "metadata": {},
   "outputs": [],
   "source": [
    "sphincs = Sphincs()\n",
    "\n",
    "# sphincs.set_n(2)\n",
    "# sphincs.set_h(4)\n",
    "# sphincs.set_d(2)\n",
    "# sphincs.set_k(4)\n",
    "# sphincs.set_a(2)"
   ]
  },
  {
   "cell_type": "markdown",
   "metadata": {},
   "source": [
    "We will suppose that a message has been signed twice while a flaw in the algorithm made the second signature with a faulty authentification path with private key _b'mo\\x9c\\x1bS\\xd4\\x05\\x16'_"
   ]
  },
  {
   "cell_type": "code",
   "execution_count": null,
   "metadata": {},
   "outputs": [],
   "source": [
    "# Public key\n",
    "pk = b'S\\xd4\\x05\\x16'\n"
   ]
  },
  {
   "cell_type": "markdown",
   "metadata": {},
   "source": [
    "In order to simplify this attack, me used the same $R$ variable so we could be sure our two signatures will use the same path of authentification"
   ]
  },
  {
   "cell_type": "code",
   "execution_count": null,
   "metadata": {},
   "outputs": [],
   "source": [
    "m = b'Not our fault if it breaks...'\n",
    "sig1 = b'\\x00\\x00QUS\\xff\\x90\\x94uvD\\xa1\\xd8\\xce\\xa0\\xa8\\xd2\\x8b`9\\x84\\x10\\x07-i\\x94\\xfe3\\xdb\\x97\\x00\\xc8E\\xd3\\xdd\\x14\\x15\\x81n\\x13\\x1f\\x8d\\xc3?\\xee\\xfe\\xb0\\xa0puV\\xb6OEH;\\xfe\\xe1'\n",
    "sig2 = b'\\x00\\x00QUS\\xff\\x90\\x94uvD\\xa1\\xd8\\xce\\xa0\\xa8\\xd2\\x8b`9\\x84\\x10\\x07-i\\x94\\xfe3\\xdb\\x97\\x00\\xc8E\\xd3\\xdd\\x14\\x15\\x81n\\x13\\x00\\x00r\\x05\\xca\\xb3P\\xfd\\x11\\xb1\\xbbN\\r\\xd8H;\\xfe\\xe1'\n"
   ]
  },
  {
   "cell_type": "code",
   "execution_count": null,
   "metadata": {},
   "outputs": [],
   "source": [
    "# Splitting SIGs in order to find wots message and signature\n",
    "h_prime = sphincs._h_prime\n",
    "len_0 = sphincs._len_0\n",
    "len_1 = sphincs._len_1\n",
    "n = sphincs._n\n",
    "d = sphincs._d\n",
    "a = sphincs._a\n",
    "k = sphincs._k\n",
    "h = sphincs._h\n",
    "\n",
    "\n",
    "def sigs_from_main_sig(sig):\n",
    "    sig_tab = []\n",
    "\n",
    "    sig_tab += [sig[:n]]  # R\n",
    "\n",
    "    sig_tab += [[]]  # SIG FORS\n",
    "    for i in range(n,\n",
    "                   n + k * (a + 1) * n,\n",
    "                   n):\n",
    "        sig_tab[1].append(sig[i:(i + n)])\n",
    "\n",
    "    sig_tab += [[]]  # SIG Hypertree\n",
    "    for i in range(n + k * (a + 1) * n,\n",
    "                   n + k * (a + 1) * n + (h + d * len_1) * n,\n",
    "                   n):\n",
    "        sig_tab[2].append(sig[i:(i + n)])\n",
    "    return sig_tab\n",
    "\n",
    "\n",
    "def sig_wots_from_sig_xmss(sig):\n",
    "    return sig[0:len_1]\n",
    "\n",
    "\n",
    "def auth_from_sig_xmss(sig):\n",
    "    return sig[len_1:]\n",
    "\n",
    "\n",
    "def sigs_xmss_from_sig_ht(sig):\n",
    "    sigs = []\n",
    "    for i in range(0, d):\n",
    "        sigs.append(sig[i * (h_prime + len_1):(i + 1) * (h_prime + len_1)])\n",
    "\n",
    "    return sigs\n",
    "\n",
    "\n",
    "splitted_sig1 = sigs_from_main_sig(sig1)\n",
    "splitted_sig2 = sigs_from_main_sig(sig2)\n",
    "xmss_sig1 = sigs_xmss_from_sig_ht(splitted_sig1[2])\n",
    "xmss_sig2 = sigs_xmss_from_sig_ht(splitted_sig2[2])\n",
    "\n",
    "# WOTS signature from the XMSS tree d-1 is signing the previous auth from tree d-2\n",
    "print(\"Auth XMSS d-2 sig1: \", auth_from_sig_xmss(xmss_sig1[0]))\n",
    "print(\"WOTS SIG d-1  sig1: \", sig_wots_from_sig_xmss(xmss_sig1[1]))\n",
    "print(\"Auth XMSS d-2 sig2: \", auth_from_sig_xmss(xmss_sig2[0]))\n",
    "print(\"WOTS SIG d-1  sig2: \", sig_wots_from_sig_xmss(xmss_sig2[1]))\n",
    "print()\n",
    "print(\"Auth XMSS d-1 sig1: \", auth_from_sig_xmss(xmss_sig1[1]))\n",
    "print(\"Auth XMSS d-1 sig2: \", auth_from_sig_xmss(xmss_sig2[1]))\n"
   ]
  },
  {
   "cell_type": "markdown",
   "metadata": {},
   "source": [
    "As we can see, our second signature has a faulted authentification path, different from the first signature. Because of this, we obtain an other signature from the same $WOTS^+$ leaf. But even if the signature is different, because it has been successfully signed, it is counted as a true signature:"
   ]
  },
  {
   "cell_type": "code",
   "execution_count": null,
   "metadata": {},
   "outputs": [],
   "source": [
    "print(\"Is sig1 correct? \", sphincs.verify(sig1, m, pk))\n",
    "print(\"Is sig2 correct? \", sphincs.verify(sig2, m, pk))\n"
   ]
  },
  {
   "cell_type": "markdown",
   "metadata": {},
   "source": [
    "We need to find a random _seed_ for which our forged message go through the same $WOTS^+$ leaf. To do this, we need to find a $R$ that the verifying algorithm will use to go through the attacked leaf."
   ]
  },
  {
   "cell_type": "code",
   "execution_count": null,
   "metadata": {},
   "outputs": [],
   "source": [
    "m_fake = b'The earth is flat!'\n",
    "\n",
    "# Here for this hypertree and this fake message, we know that if R = b'a\\x06', we will go through the same leaf on d-1 tree\n",
    "r = b'a\\x06'\n"
   ]
  },
  {
   "cell_type": "markdown",
   "metadata": {},
   "source": [
    "This value has been easily found because we can still sign our own message with the secret key (we could then obtain the message signature: b'a\\x06\\xe1\\xe6\\xea\\xfb\\xbd)\\xd0+\\x9b\\xd7+\\x94\\xd8Vk\\xcct\\x9fzl\\xf1\\xe4\\xb1%\\xcfD\\xf4\\xa5\\xa8\\x1e\\x14\\xa7#\\x1a\\xe2\\xef\\xd9\\x08\\x1f\\x8d\\xc3?\\xee\\xfe\\xb0\\xa0puV\\xb6OEH;\\xfe\\xe1'). But knowing which path is used to verify the signature is publicly known: it depends from $pk$, $m$ and $R$ which are publicly known when we digest the message in the first verification step."
   ]
  },
  {
   "cell_type": "markdown",
   "metadata": {},
   "source": [
    "From these informations, we need to compute the $m_{fake}$ signature with different sub-hypertrees (size $h - h'$ with $d-1$ layers) until we can found a tree for which his computed root can be signed with the known $WOTS^+$ leaf. The more faulted signature we have, the more possible roots can be forged. "
   ]
  },
  {
   "cell_type": "markdown",
   "metadata": {},
   "source": [
    "From this part, we have to brute force sub-hypertrees possibilities until we found one that can be used with this $WOTS^+$ key. We can then sign our message with our $R$, our tree and we then add the final official authentification path to the signature to make it computable by others."
   ]
  },
  {
   "cell_type": "markdown",
   "metadata": {},
   "source": []
  }
 ],
 "metadata": {
  "kernelspec": {
   "display_name": "Python 3 (ipykernel)",
   "language": "python",
   "name": "python3"
  },
  "language_info": {
   "codemirror_mode": {
    "name": "ipython",
    "version": 3
   },
   "file_extension": ".py",
   "mimetype": "text/x-python",
   "name": "python",
   "nbconvert_exporter": "python",
   "pygments_lexer": "ipython3",
   "version": "3.9.12"
  }
 },
 "nbformat": 4,
 "nbformat_minor": 2
}
