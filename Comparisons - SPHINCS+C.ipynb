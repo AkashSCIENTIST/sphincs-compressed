{
 "cells": [
  {
   "cell_type": "code",
   "execution_count": null,
   "id": "f93ee08f",
   "metadata": {},
   "outputs": [],
   "source": [
    "import time\n",
    "import pandas as pd\n",
    "import matplotlib.pyplot as plt\n"
   ]
  },
  {
   "cell_type": "markdown",
   "id": "6d4d0236",
   "metadata": {},
   "source": [
    "# Declaring Global Parameters"
   ]
  },
  {
   "cell_type": "code",
   "execution_count": null,
   "id": "a690c6bc",
   "metadata": {},
   "outputs": [],
   "source": [
    "a = 15 # FORS Tree Height\n",
    "# k = 10 # FORS Tree Number\n",
    "val_arr = []"
   ]
  },
  {
   "cell_type": "code",
   "execution_count": null,
   "id": "a8571f05",
   "metadata": {},
   "outputs": [],
   "source": [
    "parameters = {\n",
    "    \"128S\" : {\n",
    "        \"n\":16,\n",
    "        \"h\":66,\n",
    "        \"d\":11,\n",
    "        \"k\":9,\n",
    "        \"w\":128,\n",
    "        \"a\":a\n",
    "    },\n",
    "    \"128F\" : {\n",
    "        \"n\":16,\n",
    "        \"h\":63,\n",
    "        \"d\":21,\n",
    "        \"k\":19,\n",
    "        \"w\":16,\n",
    "        \"a\":a\n",
    "    },\n",
    "    \"192S\" : {\n",
    "        \"n\":24,\n",
    "        \"h\":63,\n",
    "        \"d\":11,\n",
    "        \"k\":13,\n",
    "        \"w\":128,\n",
    "        \"a\":a\n",
    "    },\n",
    "    \"192F\" : {\n",
    "        \"n\":24,\n",
    "        \"h\":63,\n",
    "        \"d\":21,\n",
    "        \"k\":30,\n",
    "        \"w\":16,\n",
    "        \"a\":a\n",
    "    },\n",
    "    \"256S\" : {\n",
    "        \"n\":32,\n",
    "        \"h\":66,\n",
    "        \"d\":11,\n",
    "        \"k\":19,\n",
    "        \"w\":64,\n",
    "        \"a\":a\n",
    "    },\n",
    "    \"256F\" : {\n",
    "        \"n\":32,\n",
    "        \"h\":64,\n",
    "        \"d\":16,\n",
    "        \"k\":34,\n",
    "        \"w\":16,\n",
    "        \"a\":a\n",
    "    },\n",
    "}\n",
    "\n",
    "m = b\"No one knows the reason for all this, but it is probably quantum. - Pyramids, Terry Pratchett (1989)\""
   ]
  },
  {
   "cell_type": "markdown",
   "id": "3ef6905b",
   "metadata": {},
   "source": [
    "# SPHINCS+ "
   ]
  },
  {
   "cell_type": "code",
   "execution_count": null,
   "id": "60ee4c48",
   "metadata": {},
   "outputs": [],
   "source": [
    "from package.sphincs import Sphincs\n",
    "from package import sphincs2 as sphincsc"
   ]
  },
  {
   "cell_type": "code",
   "execution_count": null,
   "id": "83532e02",
   "metadata": {},
   "outputs": [],
   "source": [
    "def SphincsUtil(n, h, d, w, a, k):\n",
    "    sphincs = Sphincs()\n",
    "    sphincs.set_n(n)\n",
    "    sphincs.set_h(h)\n",
    "    sphincs.set_d(d)\n",
    "    sphincs.set_w(w)\n",
    "    sphincs.set_a(a)\n",
    "    sphincs.set_k(k)\n",
    "    \n",
    "    start = time.time()\n",
    "    sk, pk = sphincs.generate_key_pair()\n",
    "    end = time.time()\n",
    "    key_gen_time = end-start\n",
    "    print(\"Secret Key Size: \", len(sk))\n",
    "    print(\"Public Key Size: \", len(pk))\n",
    "    print(\"Time Taken to Generate Keys\", key_gen_time)\n",
    "    \n",
    "    # print(\"Message to be signed: \", m)\n",
    "    \n",
    "    start = time.time()\n",
    "    signature = sphincs.sign(m, sk)\n",
    "    end = time.time()\n",
    "    sign_time = end-start\n",
    "    print(\"Time Taken to Sign\", sign_time)\n",
    "    print(\"Signature Size\", len(signature), \"bytes\")\n",
    "    \n",
    "    start = time.time()\n",
    "    verify_true = sphincs.verify(m, signature, pk)\n",
    "    end = time.time()\n",
    "    verify_time = end-start\n",
    "    print(\"Time Taken to Verify\", verify_time)\n",
    "    \n",
    "    print(\"Is signature correct ? \", verify_true)\n",
    "\n",
    "    return {\"SK Size\": len(sk), \"PK Size\": len(pk), \"Sign Size\": len(signature), \"Sign Time\": sign_time, \"Verify Time\" : verify_time}\n"
   ]
  },
  {
   "cell_type": "code",
   "execution_count": null,
   "id": "5b4145eb",
   "metadata": {},
   "outputs": [],
   "source": [
    "def SphincsCUtil(n, h, d, w, a, k, cf=1):\n",
    "    sphincsc.set_n(n)\n",
    "    sphincsc.set_h(h)\n",
    "    sphincsc.set_d(d)\n",
    "    sphincsc.set_w(w)\n",
    "    sphincsc.set_a(a)\n",
    "    sphincsc.set_k(k)\n",
    "    sphincsc.set_cf(cf)\n",
    "    \n",
    "    start = time.time()\n",
    "    sk, pk = sphincsc.generate_key_pair()\n",
    "    end = time.time()\n",
    "    key_gen_time = end-start\n",
    "    print(\"Secret Key Size: \", len(sk))\n",
    "    print(\"Public Key Size: \", len(pk))\n",
    "    print(\"Time Taken to Generate Keys\", key_gen_time)\n",
    "    \n",
    "    # print(\"Message to be signed: \", m)\n",
    "#     print(\"len_x\", sphincsc.len_x)\n",
    "#     print(\"len_0\", sphincsc.len_0)\n",
    "#     print(\"len_2\", sphincsc.len_2)\n",
    "#     print(\"n\", sphincsc.n)\n",
    "#     print(\"h\", sphincsc.h)\n",
    "#     print(\"d\", sphincsc.d)\n",
    "#     print(\"w\", sphincsc.w)\n",
    "#     print(\"a\", sphincsc.a)\n",
    "#     print(\"k\", sphincsc.k)\n",
    "    \n",
    "    start = time.time()\n",
    "    signature = sphincsc.sign(m, sk)\n",
    "    end = time.time()\n",
    "    sign_time = end-start\n",
    "    print(\"Time Taken to Sign\", sign_time)\n",
    "    print(\"Signature Size\", len(signature), \"bytes\")\n",
    "    \n",
    "    start = time.time()\n",
    "    verify_true = sphincsc.verify(m, signature, pk)\n",
    "    end = time.time()\n",
    "    verify_time = end-start\n",
    "    print(\"Time Taken to Verify\", verify_time)\n",
    "    \n",
    "    print(\"Is signature correct ? \", verify_true)\n",
    "\n",
    "    return {\n",
    "        \"SK Size\": len(sk), \n",
    "        \"PK Size\": len(pk), \n",
    "        \"Sign Size\": len(signature), \n",
    "        \"Sign Time\": sign_time, \n",
    "        \"Verify Time\" : verify_time,\n",
    "        \"Key Gen Time\" : key_gen_time\n",
    "    }\n"
   ]
  },
  {
   "cell_type": "markdown",
   "id": "05947e4c",
   "metadata": {},
   "source": [
    "## SPHINCS+128S"
   ]
  },
  {
   "cell_type": "code",
   "execution_count": null,
   "id": "f15397f4",
   "metadata": {
    "scrolled": false
   },
   "outputs": [],
   "source": [
    "models = [\"SPHINCS+\", \"SPHINCS+C1\", \"SPHINCS+C2\", \"SPHINCS+C3\", \"SPHINCS+C4\"]\n",
    "parameter_names = list(parameters.keys())\n",
    "\n",
    "for cf, name in enumerate(models):\n",
    "    print(cf)\n",
    "    if cf == 0:\n",
    "        continue\n",
    "        for param_set in parameter_names:\n",
    "            print(name + ' ' + param_set)\n",
    "            param = parameters[param_set]\n",
    "            d = SphincsUtil(**param)\n",
    "            d[\"Name\"] = name + ' ' + param_set\n",
    "            val_arr.append(d)\n",
    "            print(\"-\"*50, \"\\n\")\n",
    "    else:\n",
    "        for param_set in parameter_names:\n",
    "            try:\n",
    "                print(name + ' ' + param_set)\n",
    "                param = parameters[param_set]\n",
    "                d = SphincsCUtil(**param, cf=cf)\n",
    "                d[\"Name\"] = name + ' ' + param_set\n",
    "                val_arr.append(d)\n",
    "                print(\"-\"*50, \"\\n\")\n",
    "            except:\n",
    "                print(name + ' ' + param_set + \" Failed\")\n",
    "                print(\"-\"*50, \"\\n\")\n",
    "    "
   ]
  },
  {
   "cell_type": "code",
   "execution_count": null,
   "id": "2d63ec76",
   "metadata": {},
   "outputs": [],
   "source": [
    "df = pd.DataFrame(val_arr)"
   ]
  },
  {
   "cell_type": "code",
   "execution_count": null,
   "id": "d059e592",
   "metadata": {},
   "outputs": [],
   "source": [
    "# df.to_csv(\"Data,csv\", encoding='utf-8', index=False)"
   ]
  },
  {
   "cell_type": "code",
   "execution_count": null,
   "id": "cfae07a3",
   "metadata": {},
   "outputs": [],
   "source": [
    "df.head()"
   ]
  },
  {
   "cell_type": "code",
   "execution_count": null,
   "id": "751929da",
   "metadata": {},
   "outputs": [],
   "source": [
    "df.plot(x=\"Name\", y=[\"SK Size\",\"PK Size\"], kind=\"bar\")\n"
   ]
  },
  {
   "cell_type": "code",
   "execution_count": null,
   "id": "f0a9d791",
   "metadata": {},
   "outputs": [],
   "source": [
    "df.plot(x=\"Name\", y=[\"Sign Size\"], kind=\"bar\")"
   ]
  },
  {
   "cell_type": "code",
   "execution_count": null,
   "id": "7b1fb381",
   "metadata": {},
   "outputs": [],
   "source": [
    "df.plot(x=\"Name\", y=[\"Sign Time\"], kind=\"bar\")"
   ]
  },
  {
   "cell_type": "code",
   "execution_count": null,
   "id": "c5f6972c",
   "metadata": {},
   "outputs": [],
   "source": [
    "df.plot(x=\"Name\", y=[\"Verify Time\"], kind=\"bar\")"
   ]
  },
  {
   "cell_type": "code",
   "execution_count": null,
   "id": "a08243ba",
   "metadata": {},
   "outputs": [],
   "source": []
  }
 ],
 "metadata": {
  "kernelspec": {
   "display_name": "Python 3 (ipykernel)",
   "language": "python",
   "name": "python3"
  },
  "language_info": {
   "codemirror_mode": {
    "name": "ipython",
    "version": 3
   },
   "file_extension": ".py",
   "mimetype": "text/x-python",
   "name": "python",
   "nbconvert_exporter": "python",
   "pygments_lexer": "ipython3",
   "version": "3.9.12"
  }
 },
 "nbformat": 4,
 "nbformat_minor": 5
}
