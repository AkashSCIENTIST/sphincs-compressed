{
 "cells": [
  {
   "cell_type": "code",
   "execution_count": 18,
   "metadata": {},
   "outputs": [],
   "source": [
    "from package.sphincs import Sphincs\n",
    "from tqdm import tqdm"
   ]
  },
  {
   "cell_type": "markdown",
   "metadata": {},
   "source": [
    "### Instantiate a $SPHINCS^+$ Object and Setting parameters ###\n",
    "\n",
    "We will be using :\n",
    "   - Security Parameter: $n=2$\n",
    "   - Winternitz Parameter: $w=16$\n",
    "   - Hypertree Height: $h=4$\n",
    "   - Hypertree Layers: $d=2$\n",
    "   - $FORS$ Trees Number: $k=4$\n",
    "   - $FORS$ Trees Height: $a=2$"
   ]
  },
  {
   "cell_type": "code",
   "execution_count": 19,
   "metadata": {},
   "outputs": [],
   "source": [
    "sphincs = Sphincs()\n",
    "\n",
    "# sphincs.set_n(2)\n",
    "# sphincs.set_h(4)\n",
    "# sphincs.set_d(2)\n",
    "# sphincs.set_k(4)\n",
    "# sphincs.set_a(2)\n",
    "\n",
    "sphincs.set_w(4)\n",
    "sphincs.set_hypertree_height(32)"
   ]
  },
  {
   "cell_type": "markdown",
   "metadata": {},
   "source": [
    "### Generating a Key Pair ###"
   ]
  },
  {
   "cell_type": "code",
   "execution_count": 20,
   "metadata": {},
   "outputs": [
    {
     "name": "stdout",
     "output_type": "stream",
     "text": [
      "Secret Key:  b'\\x85!}4K&\\xe9\\x14\\xbc\\x89k\\xd1\\xde;\\x01<\\x05\\xc4\\x9eq\\xd0\\xc6\\xfb\\xef1\\xd0O?\\rJ\\x89\\xeeW\\xdc\\x8c\\xd0\\xf4\\xd8z\\x06\\x9b\\xd0i<\\xa2\\x13\\x1f\\xcfYc\\xaeg\\xda\\x911g\\xbb\\xeb\\x99\\x06\\xd4\\xe0\\xe9\\xd36\\x89`\\x01;\\x9c%\\x9dw\\x02A+\\xe2x\\xd5v\\xe6{En\\xf9\\x98\\xdbl\\x05\\xdb\\x9e\\x05\\xafg\\x8aK\\xa6x\\x01\\xf9=Y\\x16\\x01\\x91\\xbd|\\x93\\xe0\\xbf\\x18\\x92P\\x1a\\xe7Z\\x9a$\\xcfk{\\x82\\xcc\\xdb\\xdf\\x9c\\x16\\xb9'\n",
      "\n",
      "Public Key:  b'6\\x89`\\x01;\\x9c%\\x9dw\\x02A+\\xe2x\\xd5v\\xe6{En\\xf9\\x98\\xdbl\\x05\\xdb\\x9e\\x05\\xafg\\x8aK\\xa6x\\x01\\xf9=Y\\x16\\x01\\x91\\xbd|\\x93\\xe0\\xbf\\x18\\x92P\\x1a\\xe7Z\\x9a$\\xcfk{\\x82\\xcc\\xdb\\xdf\\x9c\\x16\\xb9'\n"
     ]
    }
   ],
   "source": [
    "sk, pk = sphincs.generate_key_pair()\n",
    "print(\"Secret Key: \", sk)\n",
    "print()\n",
    "print(\"Public Key: \", pk)"
   ]
  },
  {
   "cell_type": "markdown",
   "metadata": {},
   "source": [
    "### Signing M ###"
   ]
  },
  {
   "cell_type": "code",
   "execution_count": 21,
   "metadata": {},
   "outputs": [
    {
     "name": "stdout",
     "output_type": "stream",
     "text": [
      "Signature Size:  7684\n"
     ]
    }
   ],
   "source": [
    "m = b'Ripples of paradox spread out across the sea of causality.'\n",
    "\n",
    "signature = sphincs.sign(m, sk)\n",
    "\n",
    "print(\"Signature Size: \", len(signature))"
   ]
  },
  {
   "cell_type": "code",
   "execution_count": 16,
   "metadata": {},
   "outputs": [
    {
     "name": "stdout",
     "output_type": "stream",
     "text": [
      "Is signature Correct ?  False\n"
     ]
    }
   ],
   "source": [
    "print(\"Is signature Correct ? \", sphincs.verify(signature, m, pk))"
   ]
  },
  {
   "cell_type": "code",
   "execution_count": 17,
   "metadata": {},
   "outputs": [
    {
     "data": {
      "text/plain": [
       "False"
      ]
     },
     "execution_count": 17,
     "metadata": {},
     "output_type": "execute_result"
    }
   ],
   "source": [
    "sphincs.verify(signature, m, pk)\n"
   ]
  },
  {
   "cell_type": "markdown",
   "metadata": {},
   "source": [
    "### Trying to find secret key with a Brute Force Attack on Secret Key###"
   ]
  },
  {
   "cell_type": "code",
   "execution_count": 7,
   "metadata": {},
   "outputs": [
    {
     "name": "stderr",
     "output_type": "stream",
     "text": [
      "  0%|                                                                             | 47/65536 [00:13<5:06:02,  3.57it/s]\n"
     ]
    },
    {
     "ename": "KeyboardInterrupt",
     "evalue": "",
     "output_type": "error",
     "traceback": [
      "\u001b[1;31m---------------------------------------------------------------------------\u001b[0m",
      "\u001b[1;31mKeyboardInterrupt\u001b[0m                         Traceback (most recent call last)",
      "Input \u001b[1;32mIn [7]\u001b[0m, in \u001b[0;36m<cell line: 3>\u001b[1;34m()\u001b[0m\n\u001b[0;32m      7\u001b[0m                                 \u001b[38;5;66;03m# But Because we are brute forcing Secret Key, messages are forged before\u001b[39;00m\n\u001b[0;32m      8\u001b[0m                                 \u001b[38;5;66;03m# We don't need to create a really random one (0 is fine)\u001b[39;00m\n\u001b[0;32m      9\u001b[0m sk_crack \u001b[38;5;241m+\u001b[39m\u001b[38;5;241m=\u001b[39m pk  \u001b[38;5;66;03m# Public Key\u001b[39;00m\n\u001b[1;32m---> 11\u001b[0m sig_crack \u001b[38;5;241m=\u001b[39m \u001b[43msphincs\u001b[49m\u001b[38;5;241;43m.\u001b[39;49m\u001b[43msign\u001b[49m\u001b[43m(\u001b[49m\u001b[43mm\u001b[49m\u001b[43m,\u001b[49m\u001b[43m \u001b[49m\u001b[43msk_crack\u001b[49m\u001b[43m)\u001b[49m  \u001b[38;5;66;03m# Creating a signature\u001b[39;00m\n\u001b[0;32m     13\u001b[0m \u001b[38;5;28;01mif\u001b[39;00m sphincs\u001b[38;5;241m.\u001b[39mverify(sig_crack, m, pk):  \u001b[38;5;66;03m# Check if signature could be trust with the Public Key\u001b[39;00m\n\u001b[0;32m     14\u001b[0m     \u001b[38;5;28mprint\u001b[39m(\u001b[38;5;124m\"\u001b[39m\u001b[38;5;124mSecret Key Found: \u001b[39m\u001b[38;5;124m\"\u001b[39m, sk_crack, \u001b[38;5;124m\"\u001b[39m\u001b[38;5;130;01m\\n\u001b[39;00m\u001b[38;5;124mWith main Private Seed: \u001b[39m\u001b[38;5;124m\"\u001b[39m, sk_crack[:sphincs\u001b[38;5;241m.\u001b[39m_n])\n",
      "File \u001b[1;32mD:\\SPHINCS-C-4af2d1dfd403678080074d1699fef68d54add714\\package\\sphincs.py:145\u001b[0m, in \u001b[0;36mSphincs.sign\u001b[1;34m(self, m, sk)\u001b[0m\n\u001b[0;32m    142\u001b[0m \u001b[38;5;28;01mfor\u001b[39;00m i \u001b[38;5;129;01min\u001b[39;00m \u001b[38;5;28mrange\u001b[39m(\u001b[38;5;241m0\u001b[39m, \u001b[38;5;241m4\u001b[39m):\n\u001b[0;32m    143\u001b[0m     sk_tab\u001b[38;5;241m.\u001b[39mappend(sk[(i \u001b[38;5;241m*\u001b[39m n):((i \u001b[38;5;241m+\u001b[39m \u001b[38;5;241m1\u001b[39m) \u001b[38;5;241m*\u001b[39m n)])\n\u001b[1;32m--> 145\u001b[0m sig_tab \u001b[38;5;241m=\u001b[39m \u001b[43mspx_sign\u001b[49m\u001b[43m(\u001b[49m\u001b[43mm\u001b[49m\u001b[43m,\u001b[49m\u001b[43m \u001b[49m\u001b[43msk_tab\u001b[49m\u001b[43m)\u001b[49m\n\u001b[0;32m    147\u001b[0m sig \u001b[38;5;241m=\u001b[39m sig_tab[\u001b[38;5;241m0\u001b[39m]  \u001b[38;5;66;03m# R\u001b[39;00m\n\u001b[0;32m    149\u001b[0m \u001b[38;5;28;01mfor\u001b[39;00m i \u001b[38;5;129;01min\u001b[39;00m sig_tab[\u001b[38;5;241m1\u001b[39m]:  \u001b[38;5;66;03m# SIG FORS\u001b[39;00m\n",
      "File \u001b[1;32mD:\\SPHINCS-C-4af2d1dfd403678080074d1699fef68d54add714\\src\\sphincs.py:92\u001b[0m, in \u001b[0;36mspx_sign\u001b[1;34m(m, secret_key)\u001b[0m\n\u001b[0;32m     88\u001b[0m \u001b[38;5;66;03m# print(\"sign fors\")\u001b[39;00m\n\u001b[0;32m     89\u001b[0m \u001b[38;5;66;03m# print(pk_fors)\u001b[39;00m\n\u001b[0;32m     91\u001b[0m adrs\u001b[38;5;241m.\u001b[39mset_type(ADRS\u001b[38;5;241m.\u001b[39mTREE)\n\u001b[1;32m---> 92\u001b[0m sig_ht \u001b[38;5;241m=\u001b[39m \u001b[43mht_sign\u001b[49m\u001b[43m(\u001b[49m\u001b[43mpk_fors\u001b[49m\u001b[43m,\u001b[49m\u001b[43m \u001b[49m\u001b[43msecret_seed\u001b[49m\u001b[43m,\u001b[49m\u001b[43m \u001b[49m\u001b[43mpublic_seed\u001b[49m\u001b[43m,\u001b[49m\u001b[43m \u001b[49m\u001b[43midx_tree\u001b[49m\u001b[43m,\u001b[49m\u001b[43m \u001b[49m\u001b[43midx_leaf\u001b[49m\u001b[43m)\u001b[49m\n\u001b[0;32m     93\u001b[0m \u001b[38;5;66;03m# print(\"sign sig_ht\")\u001b[39;00m\n\u001b[0;32m     94\u001b[0m \u001b[38;5;66;03m# print(sig_ht)\u001b[39;00m\n\u001b[0;32m     95\u001b[0m \u001b[38;5;66;03m# sig_ht = sig_ht[4:]\u001b[39;00m\n\u001b[0;32m     97\u001b[0m sig \u001b[38;5;241m+\u001b[39m\u001b[38;5;241m=\u001b[39m [sig_ht]\n",
      "File \u001b[1;32mD:\\SPHINCS-C-4af2d1dfd403678080074d1699fef68d54add714\\src\\hypertree.py:38\u001b[0m, in \u001b[0;36mht_sign\u001b[1;34m(m, secret_seed, public_seed, idx_tree, idx_leaf)\u001b[0m\n\u001b[0;32m     35\u001b[0m adrs\u001b[38;5;241m.\u001b[39mset_layer_address(j)\n\u001b[0;32m     36\u001b[0m adrs\u001b[38;5;241m.\u001b[39mset_tree_address(idx_tree)\n\u001b[1;32m---> 38\u001b[0m sig_tmp \u001b[38;5;241m=\u001b[39m \u001b[43mxmss_sign\u001b[49m\u001b[43m(\u001b[49m\u001b[43mroot\u001b[49m\u001b[43m,\u001b[49m\u001b[43m \u001b[49m\u001b[43msecret_seed\u001b[49m\u001b[43m,\u001b[49m\u001b[43m \u001b[49m\u001b[43midx_leaf\u001b[49m\u001b[43m,\u001b[49m\u001b[43m \u001b[49m\u001b[43mpublic_seed\u001b[49m\u001b[43m,\u001b[49m\u001b[43m \u001b[49m\u001b[43madrs\u001b[49m\u001b[38;5;241;43m.\u001b[39;49m\u001b[43mcopy\u001b[49m\u001b[43m(\u001b[49m\u001b[43m)\u001b[49m\u001b[43m)\u001b[49m\n\u001b[0;32m     39\u001b[0m sig_ht \u001b[38;5;241m=\u001b[39m sig_ht \u001b[38;5;241m+\u001b[39m sig_tmp\n\u001b[0;32m     41\u001b[0m \u001b[38;5;28;01mif\u001b[39;00m j \u001b[38;5;241m<\u001b[39m d \u001b[38;5;241m-\u001b[39m \u001b[38;5;241m1\u001b[39m:\n",
      "File \u001b[1;32mD:\\SPHINCS-C-4af2d1dfd403678080074d1699fef68d54add714\\src\\xmss.py:62\u001b[0m, in \u001b[0;36mxmss_sign\u001b[1;34m(m, secret_seed, idx, public_seed, adrs)\u001b[0m\n\u001b[0;32m     59\u001b[0m     \u001b[38;5;28;01melse\u001b[39;00m:\n\u001b[0;32m     60\u001b[0m         ki \u001b[38;5;241m+\u001b[39m\u001b[38;5;241m=\u001b[39m \u001b[38;5;241m1\u001b[39m\n\u001b[1;32m---> 62\u001b[0m     auth \u001b[38;5;241m+\u001b[39m\u001b[38;5;241m=\u001b[39m [\u001b[43mtreehash\u001b[49m\u001b[43m(\u001b[49m\u001b[43msecret_seed\u001b[49m\u001b[43m,\u001b[49m\u001b[43m \u001b[49m\u001b[43mki\u001b[49m\u001b[43m \u001b[49m\u001b[38;5;241;43m*\u001b[39;49m\u001b[43m \u001b[49m\u001b[38;5;241;43m2\u001b[39;49m\u001b[38;5;241;43m*\u001b[39;49m\u001b[38;5;241;43m*\u001b[39;49m\u001b[43mj\u001b[49m\u001b[43m,\u001b[49m\u001b[43m \u001b[49m\u001b[43mj\u001b[49m\u001b[43m,\u001b[49m\u001b[43m \u001b[49m\u001b[43mpublic_seed\u001b[49m\u001b[43m,\u001b[49m\u001b[43m \u001b[49m\u001b[43madrs\u001b[49m\u001b[38;5;241;43m.\u001b[39;49m\u001b[43mcopy\u001b[49m\u001b[43m(\u001b[49m\u001b[43m)\u001b[49m\u001b[43m)\u001b[49m]\n\u001b[0;32m     64\u001b[0m adrs\u001b[38;5;241m.\u001b[39mset_type(ADRS\u001b[38;5;241m.\u001b[39mWOTS_HASH)\n\u001b[0;32m     65\u001b[0m adrs\u001b[38;5;241m.\u001b[39mset_key_pair_address(idx)\n",
      "File \u001b[1;32mD:\\SPHINCS-C-4af2d1dfd403678080074d1699fef68d54add714\\src\\xmss.py:24\u001b[0m, in \u001b[0;36mtreehash\u001b[1;34m(secret_seed, s, z, public_seed, adrs)\u001b[0m\n\u001b[0;32m     22\u001b[0m adrs\u001b[38;5;241m.\u001b[39mset_type(ADRS\u001b[38;5;241m.\u001b[39mWOTS_HASH)\n\u001b[0;32m     23\u001b[0m adrs\u001b[38;5;241m.\u001b[39mset_key_pair_address(s \u001b[38;5;241m+\u001b[39m i)\n\u001b[1;32m---> 24\u001b[0m node \u001b[38;5;241m=\u001b[39m \u001b[43mwots_pk_gen\u001b[49m\u001b[43m(\u001b[49m\u001b[43msecret_seed\u001b[49m\u001b[43m,\u001b[49m\u001b[43m \u001b[49m\u001b[43mpublic_seed\u001b[49m\u001b[43m,\u001b[49m\u001b[43m \u001b[49m\u001b[43madrs\u001b[49m\u001b[38;5;241;43m.\u001b[39;49m\u001b[43mcopy\u001b[49m\u001b[43m(\u001b[49m\u001b[43m)\u001b[49m\u001b[43m)\u001b[49m\n\u001b[0;32m     26\u001b[0m adrs\u001b[38;5;241m.\u001b[39mset_type(ADRS\u001b[38;5;241m.\u001b[39mTREE)\n\u001b[0;32m     27\u001b[0m adrs\u001b[38;5;241m.\u001b[39mset_tree_height(\u001b[38;5;241m1\u001b[39m)\n",
      "File \u001b[1;32mD:\\SPHINCS-C-4af2d1dfd403678080074d1699fef68d54add714\\src\\wots.py:48\u001b[0m, in \u001b[0;36mwots_pk_gen\u001b[1;34m(secret_seed, public_seed, adrs)\u001b[0m\n\u001b[0;32m     46\u001b[0m     adrs\u001b[38;5;241m.\u001b[39mset_hash_address(\u001b[38;5;241m0\u001b[39m)\n\u001b[0;32m     47\u001b[0m     sk \u001b[38;5;241m=\u001b[39m prf(secret_seed, adrs\u001b[38;5;241m.\u001b[39mcopy())\n\u001b[1;32m---> 48\u001b[0m     tmp \u001b[38;5;241m+\u001b[39m\u001b[38;5;241m=\u001b[39m \u001b[38;5;28mbytes\u001b[39m(\u001b[43mchain\u001b[49m\u001b[43m(\u001b[49m\u001b[43msk\u001b[49m\u001b[43m,\u001b[49m\u001b[43m \u001b[49m\u001b[38;5;241;43m0\u001b[39;49m\u001b[43m,\u001b[49m\u001b[43m \u001b[49m\u001b[43mw\u001b[49m\u001b[43m \u001b[49m\u001b[38;5;241;43m-\u001b[39;49m\u001b[43m \u001b[49m\u001b[38;5;241;43m1\u001b[39;49m\u001b[43m,\u001b[49m\u001b[43m \u001b[49m\u001b[43mpublic_seed\u001b[49m\u001b[43m,\u001b[49m\u001b[43m \u001b[49m\u001b[43madrs\u001b[49m\u001b[38;5;241;43m.\u001b[39;49m\u001b[43mcopy\u001b[49m\u001b[43m(\u001b[49m\u001b[43m)\u001b[49m\u001b[43m)\u001b[49m)\n\u001b[0;32m     50\u001b[0m wots_pk_adrs\u001b[38;5;241m.\u001b[39mset_type(ADRS\u001b[38;5;241m.\u001b[39mWOTS_PK)\n\u001b[0;32m     51\u001b[0m wots_pk_adrs\u001b[38;5;241m.\u001b[39mset_key_pair_address(adrs\u001b[38;5;241m.\u001b[39mget_key_pair_address())\n",
      "File \u001b[1;32mD:\\SPHINCS-C-4af2d1dfd403678080074d1699fef68d54add714\\src\\wots.py:20\u001b[0m, in \u001b[0;36mchain\u001b[1;34m(x, i, s, public_seed, adrs)\u001b[0m\n\u001b[0;32m     17\u001b[0m \u001b[38;5;28;01mif\u001b[39;00m (i \u001b[38;5;241m+\u001b[39m s) \u001b[38;5;241m>\u001b[39m (w \u001b[38;5;241m-\u001b[39m \u001b[38;5;241m1\u001b[39m):\n\u001b[0;32m     18\u001b[0m     \u001b[38;5;28;01mreturn\u001b[39;00m \u001b[38;5;241m-\u001b[39m\u001b[38;5;241m1\u001b[39m\n\u001b[1;32m---> 20\u001b[0m tmp \u001b[38;5;241m=\u001b[39m \u001b[43mchain\u001b[49m\u001b[43m(\u001b[49m\u001b[43mx\u001b[49m\u001b[43m,\u001b[49m\u001b[43m \u001b[49m\u001b[43mi\u001b[49m\u001b[43m,\u001b[49m\u001b[43m \u001b[49m\u001b[43ms\u001b[49m\u001b[43m \u001b[49m\u001b[38;5;241;43m-\u001b[39;49m\u001b[43m \u001b[49m\u001b[38;5;241;43m1\u001b[39;49m\u001b[43m,\u001b[49m\u001b[43m \u001b[49m\u001b[43mpublic_seed\u001b[49m\u001b[43m,\u001b[49m\u001b[43m \u001b[49m\u001b[43madrs\u001b[49m\u001b[43m)\u001b[49m\n\u001b[0;32m     22\u001b[0m adrs\u001b[38;5;241m.\u001b[39mset_hash_address(i \u001b[38;5;241m+\u001b[39m s \u001b[38;5;241m-\u001b[39m \u001b[38;5;241m1\u001b[39m)\n\u001b[0;32m     23\u001b[0m tmp \u001b[38;5;241m=\u001b[39m \u001b[38;5;28mhash\u001b[39m(public_seed, adrs, tmp, n)\n",
      "File \u001b[1;32mD:\\SPHINCS-C-4af2d1dfd403678080074d1699fef68d54add714\\src\\wots.py:20\u001b[0m, in \u001b[0;36mchain\u001b[1;34m(x, i, s, public_seed, adrs)\u001b[0m\n\u001b[0;32m     17\u001b[0m \u001b[38;5;28;01mif\u001b[39;00m (i \u001b[38;5;241m+\u001b[39m s) \u001b[38;5;241m>\u001b[39m (w \u001b[38;5;241m-\u001b[39m \u001b[38;5;241m1\u001b[39m):\n\u001b[0;32m     18\u001b[0m     \u001b[38;5;28;01mreturn\u001b[39;00m \u001b[38;5;241m-\u001b[39m\u001b[38;5;241m1\u001b[39m\n\u001b[1;32m---> 20\u001b[0m tmp \u001b[38;5;241m=\u001b[39m \u001b[43mchain\u001b[49m\u001b[43m(\u001b[49m\u001b[43mx\u001b[49m\u001b[43m,\u001b[49m\u001b[43m \u001b[49m\u001b[43mi\u001b[49m\u001b[43m,\u001b[49m\u001b[43m \u001b[49m\u001b[43ms\u001b[49m\u001b[43m \u001b[49m\u001b[38;5;241;43m-\u001b[39;49m\u001b[43m \u001b[49m\u001b[38;5;241;43m1\u001b[39;49m\u001b[43m,\u001b[49m\u001b[43m \u001b[49m\u001b[43mpublic_seed\u001b[49m\u001b[43m,\u001b[49m\u001b[43m \u001b[49m\u001b[43madrs\u001b[49m\u001b[43m)\u001b[49m\n\u001b[0;32m     22\u001b[0m adrs\u001b[38;5;241m.\u001b[39mset_hash_address(i \u001b[38;5;241m+\u001b[39m s \u001b[38;5;241m-\u001b[39m \u001b[38;5;241m1\u001b[39m)\n\u001b[0;32m     23\u001b[0m tmp \u001b[38;5;241m=\u001b[39m \u001b[38;5;28mhash\u001b[39m(public_seed, adrs, tmp, n)\n",
      "    \u001b[1;31m[... skipping similar frames: chain at line 20 (10 times)]\u001b[0m\n",
      "File \u001b[1;32mD:\\SPHINCS-C-4af2d1dfd403678080074d1699fef68d54add714\\src\\wots.py:20\u001b[0m, in \u001b[0;36mchain\u001b[1;34m(x, i, s, public_seed, adrs)\u001b[0m\n\u001b[0;32m     17\u001b[0m \u001b[38;5;28;01mif\u001b[39;00m (i \u001b[38;5;241m+\u001b[39m s) \u001b[38;5;241m>\u001b[39m (w \u001b[38;5;241m-\u001b[39m \u001b[38;5;241m1\u001b[39m):\n\u001b[0;32m     18\u001b[0m     \u001b[38;5;28;01mreturn\u001b[39;00m \u001b[38;5;241m-\u001b[39m\u001b[38;5;241m1\u001b[39m\n\u001b[1;32m---> 20\u001b[0m tmp \u001b[38;5;241m=\u001b[39m \u001b[43mchain\u001b[49m\u001b[43m(\u001b[49m\u001b[43mx\u001b[49m\u001b[43m,\u001b[49m\u001b[43m \u001b[49m\u001b[43mi\u001b[49m\u001b[43m,\u001b[49m\u001b[43m \u001b[49m\u001b[43ms\u001b[49m\u001b[43m \u001b[49m\u001b[38;5;241;43m-\u001b[39;49m\u001b[43m \u001b[49m\u001b[38;5;241;43m1\u001b[39;49m\u001b[43m,\u001b[49m\u001b[43m \u001b[49m\u001b[43mpublic_seed\u001b[49m\u001b[43m,\u001b[49m\u001b[43m \u001b[49m\u001b[43madrs\u001b[49m\u001b[43m)\u001b[49m\n\u001b[0;32m     22\u001b[0m adrs\u001b[38;5;241m.\u001b[39mset_hash_address(i \u001b[38;5;241m+\u001b[39m s \u001b[38;5;241m-\u001b[39m \u001b[38;5;241m1\u001b[39m)\n\u001b[0;32m     23\u001b[0m tmp \u001b[38;5;241m=\u001b[39m \u001b[38;5;28mhash\u001b[39m(public_seed, adrs, tmp, n)\n",
      "File \u001b[1;32mD:\\SPHINCS-C-4af2d1dfd403678080074d1699fef68d54add714\\src\\wots.py:23\u001b[0m, in \u001b[0;36mchain\u001b[1;34m(x, i, s, public_seed, adrs)\u001b[0m\n\u001b[0;32m     20\u001b[0m tmp \u001b[38;5;241m=\u001b[39m chain(x, i, s \u001b[38;5;241m-\u001b[39m \u001b[38;5;241m1\u001b[39m, public_seed, adrs)\n\u001b[0;32m     22\u001b[0m adrs\u001b[38;5;241m.\u001b[39mset_hash_address(i \u001b[38;5;241m+\u001b[39m s \u001b[38;5;241m-\u001b[39m \u001b[38;5;241m1\u001b[39m)\n\u001b[1;32m---> 23\u001b[0m tmp \u001b[38;5;241m=\u001b[39m \u001b[38;5;28;43mhash\u001b[39;49m\u001b[43m(\u001b[49m\u001b[43mpublic_seed\u001b[49m\u001b[43m,\u001b[49m\u001b[43m \u001b[49m\u001b[43madrs\u001b[49m\u001b[43m,\u001b[49m\u001b[43m \u001b[49m\u001b[43mtmp\u001b[49m\u001b[43m,\u001b[49m\u001b[43m \u001b[49m\u001b[43mn\u001b[49m\u001b[43m)\u001b[49m\n\u001b[0;32m     25\u001b[0m \u001b[38;5;28;01mreturn\u001b[39;00m tmp\n",
      "File \u001b[1;32mD:\\SPHINCS-C-4af2d1dfd403678080074d1699fef68d54add714\\src\\tweakables.py:15\u001b[0m, in \u001b[0;36mhash\u001b[1;34m(seed, adrs, value, counter, digest_size)\u001b[0m\n\u001b[0;32m     14\u001b[0m \u001b[38;5;28;01mdef\u001b[39;00m \u001b[38;5;21mhash\u001b[39m(seed, adrs: ADRS, value, counter \u001b[38;5;241m=\u001b[39m \u001b[38;5;28;01mNone\u001b[39;00m, digest_size\u001b[38;5;241m=\u001b[39mn):\n\u001b[1;32m---> 15\u001b[0m     m \u001b[38;5;241m=\u001b[39m \u001b[43mhashlib\u001b[49m\u001b[38;5;241m.\u001b[39msha512()\n\u001b[0;32m     16\u001b[0m     \u001b[38;5;66;03m# m = hashlib.blake2b()\u001b[39;00m\n\u001b[0;32m     17\u001b[0m     \u001b[38;5;66;03m# m = skein.skein512()\u001b[39;00m\n\u001b[0;32m     19\u001b[0m     m\u001b[38;5;241m.\u001b[39mupdate(seed)\n",
      "\u001b[1;31mKeyboardInterrupt\u001b[0m: "
     ]
    }
   ],
   "source": [
    "sk_crack = bytes()\n",
    "\n",
    "for i in tqdm(range(0, 2 ** (sphincs._n * 8))):\n",
    "    sk_crack = i.to_bytes(sphincs._n, 'big')  # Secret Key\n",
    "    \n",
    "    sk_crack += bytes(sphincs._n)   # Random Secret PRF, important to prevent forged messages from actual messages\n",
    "                                    # But Because we are brute forcing Secret Key, messages are forged before\n",
    "                                    # We don't need to create a really random one (0 is fine)\n",
    "    sk_crack += pk  # Public Key\n",
    "    \n",
    "    sig_crack = sphincs.sign(m, sk_crack)  # Creating a signature\n",
    "    \n",
    "    if sphincs.verify(sig_crack, m, pk):  # Check if signature could be trust with the Public Key\n",
    "        print(\"Secret Key Found: \", sk_crack, \"\\nWith main Private Seed: \", sk_crack[:sphincs._n])\n",
    "        print(\"Cycles: \", i)\n",
    "        break\n",
    "\n",
    "print(\"\\nDid we found the actual Private Seed? \", sk[:sphincs._n] == sk_crack[:sphincs._n])\n",
    "\n",
    "if sk[:sphincs._n] != sk_crack[:sphincs._n]:\n",
    "    print(\"We found a collision with the main seed!\")"
   ]
  },
  {
   "cell_type": "markdown",
   "metadata": {},
   "source": [
    "### Trying to forge message with found Key ###"
   ]
  },
  {
   "cell_type": "code",
   "execution_count": null,
   "metadata": {},
   "outputs": [
    {
     "name": "stdout",
     "output_type": "stream",
     "text": [
      "58\n"
     ]
    }
   ],
   "source": [
    "m2 = b'The pen is mightier than the sword ... if the sword is very short, and the pen is very sharp.'\n",
    "\n",
    "signature2 = sphincs.sign(m2, sk_crack)\n",
    "\n",
    "print(len(signature2))"
   ]
  },
  {
   "cell_type": "code",
   "execution_count": null,
   "metadata": {},
   "outputs": [
    {
     "name": "stdout",
     "output_type": "stream",
     "text": [
      "Is signature Correct ?  False\n"
     ]
    }
   ],
   "source": [
    "print(\"Is signature Correct ? \", sphincs.verify(signature2, m, pk))"
   ]
  },
  {
   "cell_type": "markdown",
   "metadata": {},
   "source": [
    "Our signature is wrong because we tried finding the secret key using only $m$ signature, with $m_2$, this kind of collision doesn't work !\n",
    "We need to find the real secret key in order to forge our own message, and so test every possibilities."
   ]
  },
  {
   "cell_type": "code",
   "execution_count": null,
   "metadata": {},
   "outputs": [],
   "source": []
  }
 ],
 "metadata": {
  "kernelspec": {
   "display_name": "Python 3 (ipykernel)",
   "language": "python",
   "name": "python3"
  },
  "language_info": {
   "codemirror_mode": {
    "name": "ipython",
    "version": 3
   },
   "file_extension": ".py",
   "mimetype": "text/x-python",
   "name": "python",
   "nbconvert_exporter": "python",
   "pygments_lexer": "ipython3",
   "version": "3.9.12"
  }
 },
 "nbformat": 4,
 "nbformat_minor": 2
}
