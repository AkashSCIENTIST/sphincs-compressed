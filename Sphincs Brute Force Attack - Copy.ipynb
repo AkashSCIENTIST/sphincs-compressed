{
 "cells": [
  {
   "cell_type": "code",
   "execution_count": 9,
   "metadata": {},
   "outputs": [],
   "source": [
    "from package.sphincs import Sphincs\n",
    "from tqdm import tqdm"
   ]
  },
  {
   "cell_type": "markdown",
   "metadata": {},
   "source": [
    "### Instantiate a $SPHINCS^+$ Object and Setting parameters ###\n",
    "\n",
    "We will be using :\n",
    "   - Security Parameter: $n=2$\n",
    "   - Winternitz Parameter: $w=16$\n",
    "   - Hypertree Height: $h=4$\n",
    "   - Hypertree Layers: $d=2$\n",
    "   - $FORS$ Trees Number: $k=4$\n",
    "   - $FORS$ Trees Height: $a=2$"
   ]
  },
  {
   "cell_type": "code",
   "execution_count": 10,
   "metadata": {},
   "outputs": [],
   "source": [
    "sphincs = Sphincs()\n",
    "\n",
    "sphincs.set_n(2)\n",
    "sphincs.set_h(4)\n",
    "sphincs.set_d(2)\n",
    "sphincs.set_k(4)\n",
    "sphincs.set_a(2)"
   ]
  },
  {
   "cell_type": "markdown",
   "metadata": {},
   "source": [
    "### Generating a Key Pair ###"
   ]
  },
  {
   "cell_type": "code",
   "execution_count": 11,
   "metadata": {},
   "outputs": [
    {
     "name": "stdout",
     "output_type": "stream",
     "text": [
      "Secret Key:  b'\\x87\\xd5\\xb5LR\\xca\\xad\\xbc]\\x1cZ\\x07\\x0b\\x93U>\\xe2MJ`mZ\\x89X\\x11\\x90\\xfe\\xc8\\x19e0\\x8a5H\\xefF\\x08\\xaeaU_V\\x08\\xa6@\\x93\\xc6\\x8e\\xb6\\xe7N6\\x1d\\x04\\xa0\\x93b\\xccxJ\\xe1.\\xe2\\\\\\xbc\\x95V\\xd6K\\xe0\\xdc\\xf83i\\x96\\x15\\xb1\\xde]\\xc65#C\\xc9\\x0c5-\\x13#\\xc1:j46\\xb8\\xbe\\x9ch\\xdd)\\xeb4\\xa3\\xac\\xe0U\\x91\\x1eyL&\"\\x7f\\xc4k(\\xea\\xaaG\\x05=+\\xb3\\xdc\\xe2gCg'\n",
      "\n",
      "Public Key:  b'\\xbc\\x95V\\xd6K\\xe0\\xdc\\xf83i\\x96\\x15\\xb1\\xde]\\xc65#C\\xc9\\x0c5-\\x13#\\xc1:j46\\xb8\\xbe\\x9ch\\xdd)\\xeb4\\xa3\\xac\\xe0U\\x91\\x1eyL&\"\\x7f\\xc4k(\\xea\\xaaG\\x05=+\\xb3\\xdc\\xe2gCg'\n"
     ]
    }
   ],
   "source": [
    "sk, pk = sphincs.generate_key_pair()\n",
    "print(\"Secret Key: \", sk)\n",
    "print()\n",
    "print(\"Public Key: \", pk)"
   ]
  },
  {
   "cell_type": "markdown",
   "metadata": {},
   "source": [
    "### Signing M ###"
   ]
  },
  {
   "cell_type": "code",
   "execution_count": 12,
   "metadata": {},
   "outputs": [
    {
     "name": "stdout",
     "output_type": "stream",
     "text": [
      "Signature Size:  7684\n"
     ]
    }
   ],
   "source": [
    "m = b'Ripples of paradox spread out across the sea of causality.'\n",
    "\n",
    "signature = sphincs.sign(m, sk)\n",
    "\n",
    "print(\"Signature Size: \", len(signature))"
   ]
  },
  {
   "cell_type": "code",
   "execution_count": 13,
   "metadata": {},
   "outputs": [
    {
     "name": "stdout",
     "output_type": "stream",
     "text": [
      "Is signature Correct ?  False\n"
     ]
    }
   ],
   "source": [
    "print(\"Is signature Correct ? \", sphincs.verify(signature, m, pk))"
   ]
  },
  {
   "cell_type": "markdown",
   "metadata": {},
   "source": [
    "### Trying to find secret key with a Brute Force Attack on Secret Key###"
   ]
  },
  {
   "cell_type": "code",
   "execution_count": 14,
   "metadata": {},
   "outputs": [
    {
     "name": "stderr",
     "output_type": "stream",
     "text": [
      "  0%|          | 16/65536 [00:08<9:25:35,  1.93it/s]\n"
     ]
    },
    {
     "ename": "KeyboardInterrupt",
     "evalue": "",
     "output_type": "error",
     "traceback": [
      "\u001b[1;31m---------------------------------------------------------------------------\u001b[0m",
      "\u001b[1;31mKeyboardInterrupt\u001b[0m                         Traceback (most recent call last)",
      "\u001b[1;32md:\\SPHINCS-C-4af2d1dfd403678080074d1699fef68d54add714\\Sphincs Brute Force Attack - Copy.ipynb Cell 10\u001b[0m line \u001b[0;36m<cell line: 3>\u001b[1;34m()\u001b[0m\n\u001b[0;32m      <a href='vscode-notebook-cell:/d%3A/SPHINCS-C-4af2d1dfd403678080074d1699fef68d54add714/Sphincs%20Brute%20Force%20Attack%20-%20Copy.ipynb#X12sZmlsZQ%3D%3D?line=6'>7</a>\u001b[0m                                 \u001b[39m# But Because we are brute forcing Secret Key, messages are forged before\u001b[39;00m\n\u001b[0;32m      <a href='vscode-notebook-cell:/d%3A/SPHINCS-C-4af2d1dfd403678080074d1699fef68d54add714/Sphincs%20Brute%20Force%20Attack%20-%20Copy.ipynb#X12sZmlsZQ%3D%3D?line=7'>8</a>\u001b[0m                                 \u001b[39m# We don't need to create a really random one (0 is fine)\u001b[39;00m\n\u001b[0;32m      <a href='vscode-notebook-cell:/d%3A/SPHINCS-C-4af2d1dfd403678080074d1699fef68d54add714/Sphincs%20Brute%20Force%20Attack%20-%20Copy.ipynb#X12sZmlsZQ%3D%3D?line=8'>9</a>\u001b[0m sk_crack \u001b[39m+\u001b[39m\u001b[39m=\u001b[39m pk  \u001b[39m# Public Key\u001b[39;00m\n\u001b[1;32m---> <a href='vscode-notebook-cell:/d%3A/SPHINCS-C-4af2d1dfd403678080074d1699fef68d54add714/Sphincs%20Brute%20Force%20Attack%20-%20Copy.ipynb#X12sZmlsZQ%3D%3D?line=10'>11</a>\u001b[0m sig_crack \u001b[39m=\u001b[39m sphincs\u001b[39m.\u001b[39;49msign(m, sk_crack)  \u001b[39m# Creating a signature\u001b[39;00m\n\u001b[0;32m     <a href='vscode-notebook-cell:/d%3A/SPHINCS-C-4af2d1dfd403678080074d1699fef68d54add714/Sphincs%20Brute%20Force%20Attack%20-%20Copy.ipynb#X12sZmlsZQ%3D%3D?line=12'>13</a>\u001b[0m \u001b[39mif\u001b[39;00m sphincs\u001b[39m.\u001b[39mverify(sig_crack, m, pk):  \u001b[39m# Check if signature could be trust with the Public Key\u001b[39;00m\n\u001b[0;32m     <a href='vscode-notebook-cell:/d%3A/SPHINCS-C-4af2d1dfd403678080074d1699fef68d54add714/Sphincs%20Brute%20Force%20Attack%20-%20Copy.ipynb#X12sZmlsZQ%3D%3D?line=13'>14</a>\u001b[0m     \u001b[39mprint\u001b[39m(\u001b[39m\"\u001b[39m\u001b[39mSecret Key Found: \u001b[39m\u001b[39m\"\u001b[39m, sk_crack, \u001b[39m\"\u001b[39m\u001b[39m\\n\u001b[39;00m\u001b[39mWith main Private Seed: \u001b[39m\u001b[39m\"\u001b[39m, sk_crack[:sphincs\u001b[39m.\u001b[39m_n])\n",
      "File \u001b[1;32md:\\SPHINCS-C-4af2d1dfd403678080074d1699fef68d54add714\\package\\sphincs.py:145\u001b[0m, in \u001b[0;36mSphincs.sign\u001b[1;34m(self, m, sk)\u001b[0m\n\u001b[0;32m    142\u001b[0m \u001b[39mfor\u001b[39;00m i \u001b[39min\u001b[39;00m \u001b[39mrange\u001b[39m(\u001b[39m0\u001b[39m, \u001b[39m4\u001b[39m):\n\u001b[0;32m    143\u001b[0m     sk_tab\u001b[39m.\u001b[39mappend(sk[(i \u001b[39m*\u001b[39m n):((i \u001b[39m+\u001b[39m \u001b[39m1\u001b[39m) \u001b[39m*\u001b[39m n)])\n\u001b[1;32m--> 145\u001b[0m sig_tab \u001b[39m=\u001b[39m spx_sign(m, sk_tab)\n\u001b[0;32m    147\u001b[0m sig \u001b[39m=\u001b[39m sig_tab[\u001b[39m0\u001b[39m]  \u001b[39m# R\u001b[39;00m\n\u001b[0;32m    149\u001b[0m \u001b[39mfor\u001b[39;00m i \u001b[39min\u001b[39;00m sig_tab[\u001b[39m1\u001b[39m]:  \u001b[39m# SIG FORS\u001b[39;00m\n",
      "File \u001b[1;32md:\\SPHINCS-C-4af2d1dfd403678080074d1699fef68d54add714\\src\\sphincs.py:92\u001b[0m, in \u001b[0;36mspx_sign\u001b[1;34m(m, secret_key)\u001b[0m\n\u001b[0;32m     88\u001b[0m \u001b[39m# print(\"sign fors\")\u001b[39;00m\n\u001b[0;32m     89\u001b[0m \u001b[39m# print(pk_fors)\u001b[39;00m\n\u001b[0;32m     91\u001b[0m adrs\u001b[39m.\u001b[39mset_type(ADRS\u001b[39m.\u001b[39mTREE)\n\u001b[1;32m---> 92\u001b[0m sig_ht \u001b[39m=\u001b[39m ht_sign(pk_fors, secret_seed, public_seed, idx_tree, idx_leaf)\n\u001b[0;32m     93\u001b[0m \u001b[39m# print(\"sign sig_ht\")\u001b[39;00m\n\u001b[0;32m     94\u001b[0m \u001b[39m# print(sig_ht)\u001b[39;00m\n\u001b[0;32m     95\u001b[0m \u001b[39m# sig_ht = sig_ht[4:]\u001b[39;00m\n\u001b[0;32m     97\u001b[0m sig \u001b[39m+\u001b[39m\u001b[39m=\u001b[39m [sig_ht]\n",
      "File \u001b[1;32md:\\SPHINCS-C-4af2d1dfd403678080074d1699fef68d54add714\\src\\hypertree.py:38\u001b[0m, in \u001b[0;36mht_sign\u001b[1;34m(m, secret_seed, public_seed, idx_tree, idx_leaf)\u001b[0m\n\u001b[0;32m     35\u001b[0m adrs\u001b[39m.\u001b[39mset_layer_address(j)\n\u001b[0;32m     36\u001b[0m adrs\u001b[39m.\u001b[39mset_tree_address(idx_tree)\n\u001b[1;32m---> 38\u001b[0m sig_tmp \u001b[39m=\u001b[39m xmss_sign(root, secret_seed, idx_leaf, public_seed, adrs\u001b[39m.\u001b[39;49mcopy())\n\u001b[0;32m     39\u001b[0m sig_ht \u001b[39m=\u001b[39m sig_ht \u001b[39m+\u001b[39m sig_tmp\n\u001b[0;32m     41\u001b[0m \u001b[39mif\u001b[39;00m j \u001b[39m<\u001b[39m d \u001b[39m-\u001b[39m \u001b[39m1\u001b[39m:\n",
      "File \u001b[1;32md:\\SPHINCS-C-4af2d1dfd403678080074d1699fef68d54add714\\src\\xmss.py:62\u001b[0m, in \u001b[0;36mxmss_sign\u001b[1;34m(m, secret_seed, idx, public_seed, adrs)\u001b[0m\n\u001b[0;32m     59\u001b[0m     \u001b[39melse\u001b[39;00m:\n\u001b[0;32m     60\u001b[0m         ki \u001b[39m+\u001b[39m\u001b[39m=\u001b[39m \u001b[39m1\u001b[39m\n\u001b[1;32m---> 62\u001b[0m     auth \u001b[39m+\u001b[39m\u001b[39m=\u001b[39m [treehash(secret_seed, ki \u001b[39m*\u001b[39;49m \u001b[39m2\u001b[39;49m\u001b[39m*\u001b[39;49m\u001b[39m*\u001b[39;49mj, j, public_seed, adrs\u001b[39m.\u001b[39;49mcopy())]\n\u001b[0;32m     64\u001b[0m adrs\u001b[39m.\u001b[39mset_type(ADRS\u001b[39m.\u001b[39mWOTS_HASH)\n\u001b[0;32m     65\u001b[0m adrs\u001b[39m.\u001b[39mset_key_pair_address(idx)\n",
      "File \u001b[1;32md:\\SPHINCS-C-4af2d1dfd403678080074d1699fef68d54add714\\src\\xmss.py:24\u001b[0m, in \u001b[0;36mtreehash\u001b[1;34m(secret_seed, s, z, public_seed, adrs)\u001b[0m\n\u001b[0;32m     22\u001b[0m adrs\u001b[39m.\u001b[39mset_type(ADRS\u001b[39m.\u001b[39mWOTS_HASH)\n\u001b[0;32m     23\u001b[0m adrs\u001b[39m.\u001b[39mset_key_pair_address(s \u001b[39m+\u001b[39m i)\n\u001b[1;32m---> 24\u001b[0m node \u001b[39m=\u001b[39m wots_pk_gen(secret_seed, public_seed, adrs\u001b[39m.\u001b[39;49mcopy())\n\u001b[0;32m     26\u001b[0m adrs\u001b[39m.\u001b[39mset_type(ADRS\u001b[39m.\u001b[39mTREE)\n\u001b[0;32m     27\u001b[0m adrs\u001b[39m.\u001b[39mset_tree_height(\u001b[39m1\u001b[39m)\n",
      "File \u001b[1;32md:\\SPHINCS-C-4af2d1dfd403678080074d1699fef68d54add714\\src\\wots.py:53\u001b[0m, in \u001b[0;36mwots_pk_gen\u001b[1;34m(secret_seed, public_seed, adrs)\u001b[0m\n\u001b[0;32m     50\u001b[0m wots_pk_adrs\u001b[39m.\u001b[39mset_type(ADRS\u001b[39m.\u001b[39mWOTS_PK)\n\u001b[0;32m     51\u001b[0m wots_pk_adrs\u001b[39m.\u001b[39mset_key_pair_address(adrs\u001b[39m.\u001b[39mget_key_pair_address())\n\u001b[1;32m---> 53\u001b[0m pk \u001b[39m=\u001b[39m \u001b[39mhash\u001b[39;49m(public_seed, wots_pk_adrs, tmp)\n\u001b[0;32m     54\u001b[0m \u001b[39mreturn\u001b[39;00m pk\n",
      "File \u001b[1;32md:\\SPHINCS-C-4af2d1dfd403678080074d1699fef68d54add714\\src\\tweakables.py:24\u001b[0m, in \u001b[0;36mhash\u001b[1;34m(seed, adrs, value, counter, digest_size)\u001b[0m\n\u001b[0;32m     22\u001b[0m \u001b[39melse\u001b[39;00m:\n\u001b[0;32m     23\u001b[0m     m\u001b[39m.\u001b[39mupdate(adrs)\n\u001b[1;32m---> 24\u001b[0m m\u001b[39m.\u001b[39;49mupdate(value)\n\u001b[0;32m     26\u001b[0m \u001b[39mif\u001b[39;00m counter \u001b[39mis\u001b[39;00m \u001b[39mnot\u001b[39;00m \u001b[39mNone\u001b[39;00m:\n\u001b[0;32m     27\u001b[0m     m\u001b[39m.\u001b[39mupdate(int_to_bytes(counter))\n",
      "\u001b[1;31mKeyboardInterrupt\u001b[0m: "
     ]
    }
   ],
   "source": [
    "sk_crack = bytes()\n",
    "\n",
    "for i in tqdm(range(0, 2 ** (sphincs._n * 8))):\n",
    "    sk_crack = i.to_bytes(sphincs._n, 'big')  # Secret Key\n",
    "    \n",
    "    sk_crack += bytes(sphincs._n)   # Random Secret PRF, important to prevent forged messages from actual messages\n",
    "                                    # But Because we are brute forcing Secret Key, messages are forged before\n",
    "                                    # We don't need to create a really random one (0 is fine)\n",
    "    sk_crack += pk  # Public Key\n",
    "    \n",
    "    sig_crack = sphincs.sign(m, sk_crack)  # Creating a signature\n",
    "    \n",
    "    if sphincs.verify(sig_crack, m, pk):  # Check if signature could be trust with the Public Key\n",
    "        print(\"Secret Key Found: \", sk_crack, \"\\nWith main Private Seed: \", sk_crack[:sphincs._n])\n",
    "        print(\"Cycles: \", i)\n",
    "        break\n",
    "\n",
    "print(\"\\nDid we found the actual Private Seed? \", sk[:sphincs._n] == sk_crack[:sphincs._n])\n",
    "\n",
    "if sk[:sphincs._n] != sk_crack[:sphincs._n]:\n",
    "    print(\"We found a collision with the main seed!\")"
   ]
  },
  {
   "cell_type": "markdown",
   "metadata": {},
   "source": [
    "### Trying to forge message with found Key ###"
   ]
  },
  {
   "cell_type": "code",
   "execution_count": null,
   "metadata": {},
   "outputs": [
    {
     "name": "stdout",
     "output_type": "stream",
     "text": [
      "58\n"
     ]
    }
   ],
   "source": [
    "m2 = b'The pen is mightier than the sword ... if the sword is very short, and the pen is very sharp.'\n",
    "\n",
    "signature2 = sphincs.sign(m2, sk_crack)\n",
    "\n",
    "print(len(signature2))"
   ]
  },
  {
   "cell_type": "code",
   "execution_count": null,
   "metadata": {},
   "outputs": [
    {
     "name": "stdout",
     "output_type": "stream",
     "text": [
      "Is signature Correct ?  False\n"
     ]
    }
   ],
   "source": [
    "print(\"Is signature Correct ? \", sphincs.verify(signature2, m, pk))"
   ]
  },
  {
   "cell_type": "markdown",
   "metadata": {},
   "source": [
    "Our signature is wrong because we tried finding the secret key using only $m$ signature, with $m_2$, this kind of collision doesn't work !\n",
    "We need to find the real secret key in order to forge our own message, and so test every possibilities."
   ]
  },
  {
   "cell_type": "code",
   "execution_count": null,
   "metadata": {},
   "outputs": [],
   "source": []
  }
 ],
 "metadata": {
  "kernelspec": {
   "display_name": "Python 3",
   "language": "python",
   "name": "python3"
  },
  "language_info": {
   "codemirror_mode": {
    "name": "ipython",
    "version": 3
   },
   "file_extension": ".py",
   "mimetype": "text/x-python",
   "name": "python",
   "nbconvert_exporter": "python",
   "pygments_lexer": "ipython3",
   "version": "3.9.12"
  }
 },
 "nbformat": 4,
 "nbformat_minor": 2
}
