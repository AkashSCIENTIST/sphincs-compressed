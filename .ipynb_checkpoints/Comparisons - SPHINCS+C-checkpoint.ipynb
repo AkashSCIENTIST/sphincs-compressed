{
 "cells": [
  {
   "cell_type": "code",
   "execution_count": 1,
   "id": "f93ee08f",
   "metadata": {},
   "outputs": [],
   "source": [
    "import time"
   ]
  },
  {
   "cell_type": "markdown",
   "id": "6d4d0236",
   "metadata": {},
   "source": [
    "# Declaring Global Parameters"
   ]
  },
  {
   "cell_type": "code",
   "execution_count": 2,
   "id": "a690c6bc",
   "metadata": {},
   "outputs": [],
   "source": [
    "a = 15 # FORS Tree Height\n",
    "# k = 10 # FORS Tree Number"
   ]
  },
  {
   "cell_type": "code",
   "execution_count": 3,
   "id": "a8571f05",
   "metadata": {},
   "outputs": [],
   "source": [
    "parameters = {\n",
    "    \"128S\" : {\n",
    "        \"n\":16,\n",
    "        \"h\":66,\n",
    "        \"d\":11,\n",
    "        \"k\":9,\n",
    "        \"w\":128,\n",
    "        \"a\":a\n",
    "    },\n",
    "    \"128F\" : {\n",
    "        \"n\":16,\n",
    "        \"h\":63,\n",
    "        \"d\":21,\n",
    "        \"k\":19,\n",
    "        \"w\":16,\n",
    "        \"a\":a\n",
    "    },\n",
    "    \"192S\" : {\n",
    "        \"n\":24,\n",
    "        \"h\":63,\n",
    "        \"d\":11,\n",
    "        \"k\":13,\n",
    "        \"w\":128,\n",
    "        \"a\":a\n",
    "    },\n",
    "    \"192F\" : {\n",
    "        \"n\":24,\n",
    "        \"h\":63,\n",
    "        \"d\":21,\n",
    "        \"k\":30,\n",
    "        \"w\":16,\n",
    "        \"a\":a\n",
    "    },\n",
    "    \"256S\" : {\n",
    "        \"n\":32,\n",
    "        \"h\":66,\n",
    "        \"d\":11,\n",
    "        \"k\":19,\n",
    "        \"w\":64,\n",
    "        \"a\":a\n",
    "    },\n",
    "    \"256F\" : {\n",
    "        \"n\":32,\n",
    "        \"h\":64,\n",
    "        \"d\":16,\n",
    "        \"k\":34,\n",
    "        \"w\":16,\n",
    "        \"a\":a\n",
    "    },\n",
    "}\n",
    "\n",
    "m = b\"No one knows the reason for all this, but it is probably quantum. - Pyramids, Terry Pratchett (1989)\""
   ]
  },
  {
   "cell_type": "markdown",
   "id": "3ef6905b",
   "metadata": {},
   "source": [
    "# SPHINCS+C"
   ]
  },
  {
   "cell_type": "code",
   "execution_count": 4,
   "id": "60ee4c48",
   "metadata": {},
   "outputs": [],
   "source": [
    "from package.sphincsc import SphincsC"
   ]
  },
  {
   "cell_type": "code",
   "execution_count": 5,
   "id": "5b4145eb",
   "metadata": {},
   "outputs": [],
   "source": [
    "def SphincsUtil(n, h, d, w, a, k):\n",
    "    sphincs = SphincsC()\n",
    "    sphincs.set_n(n)\n",
    "    sphincs.set_h(h)\n",
    "    sphincs.set_d(d)\n",
    "    sphincs.set_w(w)\n",
    "    sphincs.set_a(a)\n",
    "    sphincs.set_k(k)\n",
    "    \n",
    "    sk, pk = sphincs.generate_key_pair()\n",
    "    print(\"Secret Key Size: \", len(sk))\n",
    "    print(\"Public Key Size: \", len(pk))\n",
    "    \n",
    "    # print(\"Message to be signed: \", m)\n",
    "    \n",
    "    start = time.time()\n",
    "    signature = sphincs.sign(m, sk)\n",
    "    end = time.time()\n",
    "    print(\"Time Taken to Sign\", end-start)\n",
    "    print(\"Signature Size\", len(signature), \"bytes\")\n",
    "    \n",
    "    start = time.time()\n",
    "    verify_true = sphincs.verify(m, signature, pk)\n",
    "    end = time.time()\n",
    "    print(\"Time Taken to Verify\", end-start)\n",
    "    \n",
    "    print(\"Is signature correct ? \", verify_true)"
   ]
  },
  {
   "cell_type": "markdown",
   "id": "05947e4c",
   "metadata": {},
   "source": [
    "## SPHINCS+C128S"
   ]
  },
  {
   "cell_type": "code",
   "execution_count": 6,
   "id": "f15397f4",
   "metadata": {},
   "outputs": [
    {
     "name": "stdout",
     "output_type": "stream",
     "text": [
      "Secret Key Size:  128\n",
      "Public Key Size:  64\n",
      "Length of signature 7689\n",
      "Time Taken to Sign 0.20933103561401367\n",
      "Signature Size 7689 bytes\n",
      "Checking Integration\n",
      "key 1\n",
      "b'{(\\x9b\\r\\xa3\\x11l\\xb6H\\x11\\xf0\\x01X\\xd6X\\x90\\x8f\\xb1\\xb9\\x8a\\xd9s\\xf4\\xe3\\x8d\\xd9jS\\x98@\\x18_'\n",
      "Key 2\n",
      "b'{(\\x9b\\r\\xa3\\x11l\\xb6H\\x11\\xf0\\x01X\\xd6X\\x90\\x8f\\xb1\\xb9\\x8a\\xd9s\\xf4\\xe3\\x8d\\xd9jS\\x98@\\x18_'\n",
      "Time Taken to Verify 0.005491495132446289\n",
      "Is signature correct ?  True\n"
     ]
    }
   ],
   "source": [
    "param = parameters[\"128S\"]\n",
    "SphincsUtil(**param)"
   ]
  },
  {
   "cell_type": "markdown",
   "id": "76dbb5d1",
   "metadata": {},
   "source": [
    "## SPHINCS+C128F"
   ]
  },
  {
   "cell_type": "code",
   "execution_count": 7,
   "id": "b584bbe6",
   "metadata": {},
   "outputs": [
    {
     "name": "stdout",
     "output_type": "stream",
     "text": [
      "Secret Key Size:  128\n",
      "Public Key Size:  64\n",
      "Length of signature 7688\n",
      "Time Taken to Sign 0.19145631790161133\n",
      "Signature Size 7688 bytes\n",
      "Checking Integration\n",
      "key 1\n",
      "b'Nd\\xf1\\xd2t\\xa2\\\\\\x90\\xffH\\xc8\\xc9\\xd6/\\xc6\\x15\\x8d\\xbd5=,=i\\xa7\\xb6\\xf8q\\xb0\\xb0\"\\xc1\\x16'\n",
      "Key 2\n",
      "b'Nd\\xf1\\xd2t\\xa2\\\\\\x90\\xffH\\xc8\\xc9\\xd6/\\xc6\\x15\\x8d\\xbd5=,=i\\xa7\\xb6\\xf8q\\xb0\\xb0\"\\xc1\\x16'\n",
      "Time Taken to Verify 0.005216121673583984\n",
      "Is signature correct ?  True\n"
     ]
    }
   ],
   "source": [
    "param = parameters[\"128F\"]\n",
    "SphincsUtil(**param)"
   ]
  },
  {
   "cell_type": "markdown",
   "id": "235d6047",
   "metadata": {},
   "source": [
    "## SPHINCS+C192S"
   ]
  },
  {
   "cell_type": "code",
   "execution_count": 8,
   "id": "8d4f7ee2",
   "metadata": {},
   "outputs": [
    {
     "name": "stdout",
     "output_type": "stream",
     "text": [
      "Secret Key Size:  128\n",
      "Public Key Size:  64\n",
      "Length of signature 7687\n",
      "Time Taken to Sign 0.2163832187652588\n",
      "Signature Size 7687 bytes\n",
      "Checking Integration\n",
      "key 1\n",
      "b\"9F\\xcd\\xb3\\xfa\\n\\x8c\\xf1\\x8eM\\x89'\\xfa\\xca\\xaa\\x1a\\xf0\\xff\\xd6\\xcd:\\xea\\x18,\\xc0\\xa2\\xd4\\xfcn\\x89F\\xa5\"\n",
      "Key 2\n",
      "b\"9F\\xcd\\xb3\\xfa\\n\\x8c\\xf1\\x8eM\\x89'\\xfa\\xca\\xaa\\x1a\\xf0\\xff\\xd6\\xcd:\\xea\\x18,\\xc0\\xa2\\xd4\\xfcn\\x89F\\xa5\"\n",
      "Time Taken to Verify 0.0046198368072509766\n",
      "Is signature correct ?  True\n"
     ]
    }
   ],
   "source": [
    "param = parameters[\"192S\"]\n",
    "SphincsUtil(**param)"
   ]
  },
  {
   "cell_type": "markdown",
   "id": "0f0772fa",
   "metadata": {},
   "source": [
    "## SPHINCS+C192F"
   ]
  },
  {
   "cell_type": "code",
   "execution_count": 9,
   "id": "1e137776",
   "metadata": {},
   "outputs": [
    {
     "name": "stdout",
     "output_type": "stream",
     "text": [
      "Secret Key Size:  128\n",
      "Public Key Size:  64\n",
      "Length of signature 7688\n",
      "Time Taken to Sign 0.2035691738128662\n",
      "Signature Size 7688 bytes\n",
      "Checking Integration\n",
      "key 1\n",
      "b'\\xfb\\x1a\\x92hNY\\xaa\\xea\\xb1:[\\xb5\\x15\\xef\\x9b\\x1e\\xc6t\\xb6l\\xf5]\\x12\\x95b&\\xf9R9\\xe1\\xb9!'\n",
      "Key 2\n",
      "b'\\xfb\\x1a\\x92hNY\\xaa\\xea\\xb1:[\\xb5\\x15\\xef\\x9b\\x1e\\xc6t\\xb6l\\xf5]\\x12\\x95b&\\xf9R9\\xe1\\xb9!'\n",
      "Time Taken to Verify 0.00470280647277832\n",
      "Is signature correct ?  True\n"
     ]
    }
   ],
   "source": [
    "param = parameters[\"192F\"]\n",
    "SphincsUtil(**param)"
   ]
  },
  {
   "cell_type": "markdown",
   "id": "abece219",
   "metadata": {},
   "source": [
    "## SPHINCS+C256S"
   ]
  },
  {
   "cell_type": "code",
   "execution_count": 10,
   "id": "372dddbc",
   "metadata": {},
   "outputs": [
    {
     "name": "stdout",
     "output_type": "stream",
     "text": [
      "Secret Key Size:  128\n",
      "Public Key Size:  64\n",
      "Length of signature 7688\n",
      "Time Taken to Sign 0.19233441352844238\n",
      "Signature Size 7688 bytes\n",
      "Checking Integration\n",
      "key 1\n",
      "b'd\\r_\\xb6\\x06\\xce-\\x80\\xc3\\x07~\\xe9\\xba\\x1a\\x9d\\xd5\\xcd\\xa1_\\x06\\xd3\\xa8\\xb4\\xd83\\xdb\\xfd\\xb0-\\x0e\\x97*'\n",
      "Key 2\n",
      "b'd\\r_\\xb6\\x06\\xce-\\x80\\xc3\\x07~\\xe9\\xba\\x1a\\x9d\\xd5\\xcd\\xa1_\\x06\\xd3\\xa8\\xb4\\xd83\\xdb\\xfd\\xb0-\\x0e\\x97*'\n",
      "Time Taken to Verify 0.003981590270996094\n",
      "Is signature correct ?  True\n"
     ]
    }
   ],
   "source": [
    "param = parameters[\"256S\"]\n",
    "SphincsUtil(**param)"
   ]
  },
  {
   "cell_type": "markdown",
   "id": "6d01439b",
   "metadata": {},
   "source": [
    "## SPHINCS+C256F"
   ]
  },
  {
   "cell_type": "code",
   "execution_count": 11,
   "id": "a867bf4e",
   "metadata": {},
   "outputs": [
    {
     "name": "stdout",
     "output_type": "stream",
     "text": [
      "Secret Key Size:  128\n",
      "Public Key Size:  64\n",
      "Length of signature 7688\n",
      "Time Taken to Sign 0.2210383415222168\n",
      "Signature Size 7688 bytes\n",
      "Checking Integration\n",
      "key 1\n",
      "b'5\\xd0\\x112\\x1bO\\xc0\\xf7k\\x8dP\\xa7\\xadj_\\xcc^LMy\\xd32i\\xb5\\xd1@r\\xbamJ\\xe8['\n",
      "Key 2\n",
      "b'5\\xd0\\x112\\x1bO\\xc0\\xf7k\\x8dP\\xa7\\xadj_\\xcc^LMy\\xd32i\\xb5\\xd1@r\\xbamJ\\xe8['\n",
      "Time Taken to Verify 0.0056536197662353516\n",
      "Is signature correct ?  True\n"
     ]
    }
   ],
   "source": [
    "param = parameters[\"256F\"]\n",
    "SphincsUtil(**param)"
   ]
  },
  {
   "cell_type": "code",
   "execution_count": null,
   "id": "2d63ec76",
   "metadata": {},
   "outputs": [],
   "source": []
  }
 ],
 "metadata": {
  "kernelspec": {
   "display_name": "Python 3 (ipykernel)",
   "language": "python",
   "name": "python3"
  },
  "language_info": {
   "codemirror_mode": {
    "name": "ipython",
    "version": 3
   },
   "file_extension": ".py",
   "mimetype": "text/x-python",
   "name": "python",
   "nbconvert_exporter": "python",
   "pygments_lexer": "ipython3",
   "version": "3.9.12"
  }
 },
 "nbformat": 4,
 "nbformat_minor": 5
}
