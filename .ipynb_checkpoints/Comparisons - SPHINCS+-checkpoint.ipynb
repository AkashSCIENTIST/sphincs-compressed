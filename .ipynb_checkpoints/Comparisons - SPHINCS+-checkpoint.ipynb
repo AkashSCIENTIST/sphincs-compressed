{
 "cells": [
  {
   "cell_type": "code",
   "execution_count": 1,
   "id": "ffd9e806",
   "metadata": {},
   "outputs": [],
   "source": [
    "import time"
   ]
  },
  {
   "cell_type": "markdown",
   "id": "598e230c",
   "metadata": {},
   "source": [
    "# Declaring Global Parameters"
   ]
  },
  {
   "cell_type": "code",
   "execution_count": 2,
   "id": "e0931d62",
   "metadata": {},
   "outputs": [],
   "source": [
    "a = 15 # FORS Tree Height\n",
    "k = 10 # FORS Tree Number"
   ]
  },
  {
   "cell_type": "code",
   "execution_count": 10,
   "id": "9feaa4f8",
   "metadata": {},
   "outputs": [],
   "source": [
    "parameters = {\n",
    "    \"128S\" : {\n",
    "        \"n\":16,\n",
    "        \"h\":66,\n",
    "        \"d\":11,\n",
    "        \"k\":9,\n",
    "        \"w\":128,\n",
    "        \"a\":a\n",
    "    },\n",
    "    \"128F\" : {\n",
    "        \"n\":16,\n",
    "        \"h\":63,\n",
    "        \"d\":21,\n",
    "        \"k\":19,\n",
    "        \"w\":16,\n",
    "        \"a\":a\n",
    "    },\n",
    "    \"192S\" : {\n",
    "        \"n\":24,\n",
    "        \"h\":63,\n",
    "        \"d\":11,\n",
    "        \"k\":13,\n",
    "        \"w\":128,\n",
    "        \"a\":a\n",
    "    },\n",
    "    \"192F\" : {\n",
    "        \"n\":24,\n",
    "        \"h\":63,\n",
    "        \"d\":21,\n",
    "        \"k\":30,\n",
    "        \"w\":16,\n",
    "        \"a\":a\n",
    "    },\n",
    "    \"256S\" : {\n",
    "        \"n\":32,\n",
    "        \"h\":66,\n",
    "        \"d\":11,\n",
    "        \"k\":19,\n",
    "        \"w\":64,\n",
    "        \"a\":a\n",
    "    },\n",
    "    \"256F\" : {\n",
    "        \"n\":32,\n",
    "        \"h\":64,\n",
    "        \"d\":16,\n",
    "        \"k\":34,\n",
    "        \"w\":16,\n",
    "        \"a\":a\n",
    "    },\n",
    "}\n",
    "\n",
    "m = b\"No one knows the reason for all this, but it is probably quantum. - Pyramids, Terry Pratchett (1989)\""
   ]
  },
  {
   "cell_type": "markdown",
   "id": "a7fb2cf8",
   "metadata": {},
   "source": [
    "# SPHINCS+ "
   ]
  },
  {
   "cell_type": "code",
   "execution_count": 4,
   "id": "b66fe499",
   "metadata": {},
   "outputs": [],
   "source": [
    "from package.sphincs import Sphincs"
   ]
  },
  {
   "cell_type": "code",
   "execution_count": 5,
   "id": "60d39441",
   "metadata": {},
   "outputs": [],
   "source": [
    "def SphincsUtil(n, h, d, w, a, k):\n",
    "    sphincs = Sphincs()\n",
    "    sphincs.set_n(n)\n",
    "    sphincs.set_h(h)\n",
    "    sphincs.set_d(d)\n",
    "    sphincs.set_w(w)\n",
    "    sphincs.set_a(a)\n",
    "    sphincs.set_k(k)\n",
    "    \n",
    "    sk, pk = sphincs.generate_key_pair()\n",
    "    print(\"Secret Key Size: \", len(sk))\n",
    "    print(\"Public Key Size: \", len(pk))\n",
    "    \n",
    "    # print(\"Message to be signed: \", m)\n",
    "    \n",
    "    start = time.time()\n",
    "    signature = sphincs.sign(m, sk)\n",
    "    end = time.time()\n",
    "    print(\"Time Taken to Sign\", end-start)\n",
    "    print(\"Signature Size\", len(signature), \"bytes\")\n",
    "    \n",
    "    start = time.time()\n",
    "    verify_true = sphincs.verify(m, signature, pk)\n",
    "    end = time.time()\n",
    "    print(\"Time Taken to Verify\", end-start)\n",
    "    \n",
    "    print(\"Is signature correct ? \", verify_true)"
   ]
  },
  {
   "cell_type": "markdown",
   "id": "0bcdca1a",
   "metadata": {},
   "source": [
    "## SPHINCS+128S"
   ]
  },
  {
   "cell_type": "code",
   "execution_count": 6,
   "id": "0f49ebf9",
   "metadata": {},
   "outputs": [
    {
     "name": "stdout",
     "output_type": "stream",
     "text": [
      "Secret Key Size:  64\n",
      "Public Key Size:  32\n",
      "Time Taken to Sign 10.036521673202515\n",
      "Signature Size 9536 bytes\n",
      "Time Taken to Verify 0.016736268997192383\n",
      "Is signature correct ?  True\n"
     ]
    }
   ],
   "source": [
    "param = parameters[\"128S\"]\n",
    "SphincsUtil(**param)"
   ]
  },
  {
   "cell_type": "markdown",
   "id": "b996e857",
   "metadata": {},
   "source": [
    "## SPHINCS+128F"
   ]
  },
  {
   "cell_type": "code",
   "execution_count": 7,
   "id": "577e7056",
   "metadata": {},
   "outputs": [
    {
     "name": "stdout",
     "output_type": "stream",
     "text": [
      "Secret Key Size:  64\n",
      "Public Key Size:  32\n",
      "Time Taken to Sign 16.29657793045044\n",
      "Signature Size 17648 bytes\n",
      "Time Taken to Verify 0.03382515907287598\n",
      "Is signature correct ?  True\n"
     ]
    }
   ],
   "source": [
    "param = parameters[\"128F\"]\n",
    "SphincsUtil(**param)"
   ]
  },
  {
   "cell_type": "markdown",
   "id": "3650ccfb",
   "metadata": {},
   "source": [
    "## SPHINCS+192S"
   ]
  },
  {
   "cell_type": "code",
   "execution_count": 8,
   "id": "8867ad8a",
   "metadata": {},
   "outputs": [
    {
     "name": "stdout",
     "output_type": "stream",
     "text": [
      "Secret Key Size:  96\n",
      "Public Key Size:  48\n",
      "Time Taken to Sign 12.563666820526123\n",
      "Signature Size 19800 bytes\n",
      "Time Taken to Verify 0.026315927505493164\n",
      "Is signature correct ?  False\n"
     ]
    }
   ],
   "source": [
    "param = parameters[\"192S\"]\n",
    "SphincsUtil(**param)"
   ]
  },
  {
   "cell_type": "markdown",
   "id": "82098327",
   "metadata": {},
   "source": [
    "## SPHINCS+192F"
   ]
  },
  {
   "cell_type": "code",
   "execution_count": 11,
   "id": "e330be9a",
   "metadata": {},
   "outputs": [
    {
     "name": "stdout",
     "output_type": "stream",
     "text": [
      "Secret Key Size:  96\n",
      "Public Key Size:  48\n",
      "Time Taken to Sign 26.14924907684326\n",
      "Signature Size 38760 bytes\n",
      "Time Taken to Verify 0.05301976203918457\n",
      "Is signature correct ?  True\n"
     ]
    }
   ],
   "source": [
    "param = parameters[\"192F\"]\n",
    "SphincsUtil(**param)"
   ]
  },
  {
   "cell_type": "markdown",
   "id": "251e2918",
   "metadata": {},
   "source": [
    "## SPHINCS+256S"
   ]
  },
  {
   "cell_type": "code",
   "execution_count": 12,
   "id": "c0fdf127",
   "metadata": {},
   "outputs": [
    {
     "name": "stdout",
     "output_type": "stream",
     "text": [
      "Secret Key Size:  128\n",
      "Public Key Size:  64\n",
      "Time Taken to Sign 20.65955686569214\n",
      "Signature Size 35456 bytes\n",
      "Time Taken to Verify 0.03442502021789551\n",
      "Is signature correct ?  True\n"
     ]
    }
   ],
   "source": [
    "param = parameters[\"256S\"]\n",
    "SphincsUtil(**param)"
   ]
  },
  {
   "cell_type": "markdown",
   "id": "06972478",
   "metadata": {},
   "source": [
    "## SPHINCS+256F"
   ]
  },
  {
   "cell_type": "code",
   "execution_count": 13,
   "id": "ac5199bf",
   "metadata": {},
   "outputs": [
    {
     "name": "stdout",
     "output_type": "stream",
     "text": [
      "Secret Key Size:  128\n",
      "Public Key Size:  64\n",
      "Time Taken to Sign 30.404882431030273\n",
      "Signature Size 53792 bytes\n",
      "Time Taken to Verify 0.05700254440307617\n",
      "Is signature correct ?  True\n"
     ]
    }
   ],
   "source": [
    "param = parameters[\"256F\"]\n",
    "SphincsUtil(**param)"
   ]
  },
  {
   "cell_type": "code",
   "execution_count": null,
   "id": "243952b3",
   "metadata": {},
   "outputs": [],
   "source": []
  }
 ],
 "metadata": {
  "kernelspec": {
   "display_name": "Python 3 (ipykernel)",
   "language": "python",
   "name": "python3"
  },
  "language_info": {
   "codemirror_mode": {
    "name": "ipython",
    "version": 3
   },
   "file_extension": ".py",
   "mimetype": "text/x-python",
   "name": "python",
   "nbconvert_exporter": "python",
   "pygments_lexer": "ipython3",
   "version": "3.9.12"
  }
 },
 "nbformat": 4,
 "nbformat_minor": 5
}
