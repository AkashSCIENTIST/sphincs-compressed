{
 "cells": [
  {
   "cell_type": "code",
   "execution_count": 1,
   "id": "f93ee08f",
   "metadata": {},
   "outputs": [],
   "source": [
    "import time\n",
    "import pandas as pd\n",
    "import matplotlib.pyplot as plt\n"
   ]
  },
  {
   "cell_type": "markdown",
   "id": "6d4d0236",
   "metadata": {},
   "source": [
    "# Declaring Global Parameters"
   ]
  },
  {
   "cell_type": "code",
   "execution_count": 2,
   "id": "a690c6bc",
   "metadata": {},
   "outputs": [],
   "source": [
    "a = 15 # FORS Tree Height\n",
    "# k = 10 # FORS Tree Number\n",
    "val_arr = []"
   ]
  },
  {
   "cell_type": "code",
   "execution_count": 3,
   "id": "a8571f05",
   "metadata": {},
   "outputs": [],
   "source": [
    "parameters = {\n",
    "    \"128S\" : {\n",
    "        \"n\":16,\n",
    "        \"h\":66,\n",
    "        \"d\":11,\n",
    "        \"k\":9,\n",
    "        \"w\":128,\n",
    "        \"a\":a\n",
    "    },\n",
    "    \"128F\" : {\n",
    "        \"n\":16,\n",
    "        \"h\":63,\n",
    "        \"d\":21,\n",
    "        \"k\":19,\n",
    "        \"w\":16,\n",
    "        \"a\":a\n",
    "    },\n",
    "    \"192S\" : {\n",
    "        \"n\":24,\n",
    "        \"h\":63,\n",
    "        \"d\":11,\n",
    "        \"k\":13,\n",
    "        \"w\":128,\n",
    "        \"a\":a\n",
    "    },\n",
    "    \"192F\" : {\n",
    "        \"n\":24,\n",
    "        \"h\":63,\n",
    "        \"d\":21,\n",
    "        \"k\":30,\n",
    "        \"w\":16,\n",
    "        \"a\":a\n",
    "    },\n",
    "    \"256S\" : {\n",
    "        \"n\":32,\n",
    "        \"h\":66,\n",
    "        \"d\":11,\n",
    "        \"k\":19,\n",
    "        \"w\":64,\n",
    "        \"a\":a\n",
    "    },\n",
    "    \"256F\" : {\n",
    "        \"n\":32,\n",
    "        \"h\":64,\n",
    "        \"d\":16,\n",
    "        \"k\":34,\n",
    "        \"w\":16,\n",
    "        \"a\":a\n",
    "    },\n",
    "}\n",
    "\n",
    "m = b\"No one knows the reason for all this, but it is probably quantum. - Pyramids, Terry Pratchett (1989)\""
   ]
  },
  {
   "cell_type": "markdown",
   "id": "3ef6905b",
   "metadata": {},
   "source": [
    "# SPHINCS+ "
   ]
  },
  {
   "cell_type": "code",
   "execution_count": 4,
   "id": "60ee4c48",
   "metadata": {},
   "outputs": [],
   "source": [
    "from package.sphincs import Sphincs"
   ]
  },
  {
   "cell_type": "code",
   "execution_count": 5,
   "id": "5b4145eb",
   "metadata": {},
   "outputs": [],
   "source": [
    "def SphincsUtil(n, h, d, w, a, k):\n",
    "    sphincs = Sphincs()\n",
    "    sphincs.set_n(n)\n",
    "    sphincs.set_h(h)\n",
    "    sphincs.set_d(d)\n",
    "    sphincs.set_w(w)\n",
    "    sphincs.set_a(a)\n",
    "    sphincs.set_k(k)\n",
    "    \n",
    "    sk, pk = sphincs.generate_key_pair()\n",
    "    print(\"Secret Key Size: \", len(sk))\n",
    "    print(\"Public Key Size: \", len(pk))\n",
    "    \n",
    "    # print(\"Message to be signed: \", m)\n",
    "    \n",
    "    start = time.time()\n",
    "    signature = sphincs.sign(m, sk)\n",
    "    end = time.time()\n",
    "    sign_time = end-start\n",
    "    print(\"Time Taken to Sign\", sign_time)\n",
    "    print(\"Signature Size\", len(signature), \"bytes\")\n",
    "    \n",
    "    start = time.time()\n",
    "    verify_true = sphincs.verify(m, signature, pk)\n",
    "    end = time.time()\n",
    "    verify_time = end-start\n",
    "    print(\"Time Taken to Verify\", verify_time)\n",
    "    \n",
    "    print(\"Is signature correct ? \", verify_true)\n",
    "\n",
    "    return {\"SK Size\": len(sk), \"PK Size\": len(pk), \"Sign Size\": len(signature), \"Sign Time\": sign_time, \"Verify Time\" : verify_time}\n"
   ]
  },
  {
   "cell_type": "markdown",
   "id": "05947e4c",
   "metadata": {},
   "source": [
    "## SPHINCS+128S"
   ]
  },
  {
   "cell_type": "code",
   "execution_count": 6,
   "id": "f15397f4",
   "metadata": {},
   "outputs": [
    {
     "name": "stdout",
     "output_type": "stream",
     "text": [
      "Secret Key Size:  64\n",
      "Public Key Size:  32\n",
      "Time Taken to Sign 18.456420421600342\n",
      "Signature Size 9536 bytes\n",
      "Time Taken to Verify 0.015913724899291992\n",
      "Is signature correct ?  True\n"
     ]
    }
   ],
   "source": [
    "param = parameters[\"128S\"]\n",
    "d = SphincsUtil(**param)\n",
    "d[\"Name\"] = \"128S\"\n",
    "val_arr.append(d)"
   ]
  },
  {
   "cell_type": "markdown",
   "id": "76dbb5d1",
   "metadata": {},
   "source": [
    "## SPHINCS+128F"
   ]
  },
  {
   "cell_type": "code",
   "execution_count": 7,
   "id": "b584bbe6",
   "metadata": {},
   "outputs": [
    {
     "name": "stdout",
     "output_type": "stream",
     "text": [
      "Secret Key Size:  64\n",
      "Public Key Size:  32\n",
      "Time Taken to Sign 30.35623288154602\n",
      "Signature Size 17648 bytes\n",
      "Time Taken to Verify 0.046462059020996094\n",
      "Is signature correct ?  True\n"
     ]
    }
   ],
   "source": [
    "param = parameters[\"128F\"]\n",
    "d = SphincsUtil(**param)\n",
    "d[\"Name\"] = \"128F\"\n",
    "val_arr.append(d)\n"
   ]
  },
  {
   "cell_type": "markdown",
   "id": "235d6047",
   "metadata": {},
   "source": [
    "## SPHINCS+192S"
   ]
  },
  {
   "cell_type": "code",
   "execution_count": 8,
   "id": "8d4f7ee2",
   "metadata": {},
   "outputs": [
    {
     "name": "stdout",
     "output_type": "stream",
     "text": [
      "Secret Key Size:  96\n",
      "Public Key Size:  48\n",
      "Time Taken to Sign 21.79711627960205\n",
      "Signature Size 19800 bytes\n",
      "Time Taken to Verify 0.022855281829833984\n",
      "Is signature correct ?  False\n"
     ]
    }
   ],
   "source": [
    "param = parameters[\"192S\"]\n",
    "d = SphincsUtil(**param)\n",
    "d[\"Name\"] = \"192S\"\n",
    "val_arr.append(d)\n"
   ]
  },
  {
   "cell_type": "markdown",
   "id": "0f0772fa",
   "metadata": {},
   "source": [
    "## SPHINCS+192F"
   ]
  },
  {
   "cell_type": "code",
   "execution_count": 9,
   "id": "1e137776",
   "metadata": {},
   "outputs": [
    {
     "name": "stdout",
     "output_type": "stream",
     "text": [
      "Secret Key Size:  96\n",
      "Public Key Size:  48\n",
      "Time Taken to Sign 32.246856689453125\n",
      "Signature Size 38760 bytes\n",
      "Time Taken to Verify 0.05181455612182617\n",
      "Is signature correct ?  True\n",
      "Secret Key Size:  96\n",
      "Public Key Size:  48\n",
      "Time Taken to Sign 31.466235637664795\n",
      "Signature Size 38760 bytes\n",
      "Time Taken to Verify 0.040888071060180664\n",
      "Is signature correct ?  True\n"
     ]
    }
   ],
   "source": [
    "param = parameters[\"192F\"]\n",
    "SphincsUtil(**param)\n",
    "d = SphincsUtil(**param)\n",
    "d[\"Name\"] = \"192F\"\n",
    "val_arr.append(d)\n"
   ]
  },
  {
   "cell_type": "markdown",
   "id": "abece219",
   "metadata": {},
   "source": [
    "## SPHINCS+256S"
   ]
  },
  {
   "cell_type": "code",
   "execution_count": 10,
   "id": "372dddbc",
   "metadata": {},
   "outputs": [
    {
     "name": "stdout",
     "output_type": "stream",
     "text": [
      "Secret Key Size:  128\n",
      "Public Key Size:  64\n",
      "Time Taken to Sign 22.780853509902954\n",
      "Signature Size 35456 bytes\n",
      "Time Taken to Verify 0.027509212493896484\n",
      "Is signature correct ?  True\n",
      "Secret Key Size:  128\n",
      "Public Key Size:  64\n",
      "Time Taken to Sign 22.548629999160767\n",
      "Signature Size 35456 bytes\n",
      "Time Taken to Verify 0.026840686798095703\n",
      "Is signature correct ?  True\n"
     ]
    }
   ],
   "source": [
    "param = parameters[\"256S\"]\n",
    "SphincsUtil(**param)\n",
    "d = SphincsUtil(**param)\n",
    "d[\"Name\"] = \"256S\"\n",
    "val_arr.append(d)\n"
   ]
  },
  {
   "cell_type": "markdown",
   "id": "6d01439b",
   "metadata": {},
   "source": [
    "## SPHINCS+256F"
   ]
  },
  {
   "cell_type": "code",
   "execution_count": 11,
   "id": "a867bf4e",
   "metadata": {},
   "outputs": [
    {
     "name": "stdout",
     "output_type": "stream",
     "text": [
      "Secret Key Size:  128\n",
      "Public Key Size:  64\n",
      "Time Taken to Sign 38.69648861885071\n",
      "Signature Size 53792 bytes\n",
      "Time Taken to Verify 0.053227901458740234\n",
      "Is signature correct ?  True\n",
      "Secret Key Size:  128\n",
      "Public Key Size:  64\n",
      "Time Taken to Sign 35.49716782569885\n",
      "Signature Size 53792 bytes\n",
      "Time Taken to Verify 0.03943991661071777\n",
      "Is signature correct ?  True\n"
     ]
    }
   ],
   "source": [
    "param = parameters[\"256F\"]\n",
    "SphincsUtil(**param)\n",
    "d = SphincsUtil(**param)\n",
    "d[\"Name\"] = \"256F\"\n",
    "val_arr.append(d)\n"
   ]
  },
  {
   "cell_type": "code",
   "execution_count": 13,
   "id": "2d63ec76",
   "metadata": {},
   "outputs": [],
   "source": [
    "df = pd.DataFrame(val_arr)"
   ]
  },
  {
   "cell_type": "code",
   "execution_count": 14,
   "id": "cfae07a3",
   "metadata": {},
   "outputs": [
    {
     "data": {
      "text/html": [
       "<div>\n",
       "<style scoped>\n",
       "    .dataframe tbody tr th:only-of-type {\n",
       "        vertical-align: middle;\n",
       "    }\n",
       "\n",
       "    .dataframe tbody tr th {\n",
       "        vertical-align: top;\n",
       "    }\n",
       "\n",
       "    .dataframe thead th {\n",
       "        text-align: right;\n",
       "    }\n",
       "</style>\n",
       "<table border=\"1\" class=\"dataframe\">\n",
       "  <thead>\n",
       "    <tr style=\"text-align: right;\">\n",
       "      <th></th>\n",
       "      <th>SK Size</th>\n",
       "      <th>PK Size</th>\n",
       "      <th>Sign Size</th>\n",
       "      <th>Sign Time</th>\n",
       "      <th>Verify Time</th>\n",
       "      <th>Name</th>\n",
       "    </tr>\n",
       "  </thead>\n",
       "  <tbody>\n",
       "    <tr>\n",
       "      <th>0</th>\n",
       "      <td>64</td>\n",
       "      <td>32</td>\n",
       "      <td>9536</td>\n",
       "      <td>18.456420</td>\n",
       "      <td>0.015914</td>\n",
       "      <td>128S</td>\n",
       "    </tr>\n",
       "    <tr>\n",
       "      <th>1</th>\n",
       "      <td>64</td>\n",
       "      <td>32</td>\n",
       "      <td>17648</td>\n",
       "      <td>30.356233</td>\n",
       "      <td>0.046462</td>\n",
       "      <td>128F</td>\n",
       "    </tr>\n",
       "    <tr>\n",
       "      <th>2</th>\n",
       "      <td>96</td>\n",
       "      <td>48</td>\n",
       "      <td>19800</td>\n",
       "      <td>21.797116</td>\n",
       "      <td>0.022855</td>\n",
       "      <td>192S</td>\n",
       "    </tr>\n",
       "    <tr>\n",
       "      <th>3</th>\n",
       "      <td>96</td>\n",
       "      <td>48</td>\n",
       "      <td>38760</td>\n",
       "      <td>31.466236</td>\n",
       "      <td>0.040888</td>\n",
       "      <td>192F</td>\n",
       "    </tr>\n",
       "    <tr>\n",
       "      <th>4</th>\n",
       "      <td>128</td>\n",
       "      <td>64</td>\n",
       "      <td>35456</td>\n",
       "      <td>22.548630</td>\n",
       "      <td>0.026841</td>\n",
       "      <td>256S</td>\n",
       "    </tr>\n",
       "  </tbody>\n",
       "</table>\n",
       "</div>"
      ],
      "text/plain": [
       "   SK Size  PK Size  Sign Size  Sign Time  Verify Time  Name\n",
       "0       64       32       9536  18.456420     0.015914  128S\n",
       "1       64       32      17648  30.356233     0.046462  128F\n",
       "2       96       48      19800  21.797116     0.022855  192S\n",
       "3       96       48      38760  31.466236     0.040888  192F\n",
       "4      128       64      35456  22.548630     0.026841  256S"
      ]
     },
     "execution_count": 14,
     "metadata": {},
     "output_type": "execute_result"
    }
   ],
   "source": [
    "df.head()"
   ]
  },
  {
   "cell_type": "code",
   "execution_count": 19,
   "id": "751929da",
   "metadata": {},
   "outputs": [
    {
     "data": {
      "text/plain": [
       "<AxesSubplot:xlabel='Name'>"
      ]
     },
     "execution_count": 19,
     "metadata": {},
     "output_type": "execute_result"
    },
    {
     "data": {
      "image/png": "[encoded data removed]",
      "text/plain": [
       "<Figure size 432x288 with 1 Axes>"
      ]
     },
     "metadata": {
      "needs_background": "light"
     },
     "output_type": "display_data"
    }
   ],
   "source": [
    "df.plot(x=\"Name\", y=[\"SK Size\",\"PK Size\"], kind=\"bar\")\n"
   ]
  },
  {
   "cell_type": "code",
   "execution_count": 20,
   "metadata": {},
   "outputs": [
    {
     "data": {
      "text/plain": [
       "<AxesSubplot:xlabel='Name'>"
      ]
     },
     "execution_count": 20,
     "metadata": {},
     "output_type": "execute_result"
    },
    {
     "data": {
      "image/png": "[encoded data removed]",
      "text/plain": [
       "<Figure size 432x288 with 1 Axes>"
      ]
     },
     "metadata": {
      "needs_background": "light"
     },
     "output_type": "display_data"
    }
   ],
   "source": [
    "df.plot(x=\"Name\", y=[\"Sign Size\"], kind=\"bar\")"
   ]
  },
  {
   "cell_type": "code",
   "execution_count": 22,
   "id": "7b1fb381",
   "metadata": {},
   "outputs": [
    {
     "data": {
      "text/plain": [
       "<AxesSubplot:xlabel='Name'>"
      ]
     },
     "execution_count": 22,
     "metadata": {},
     "output_type": "execute_result"
    },
    {
     "data": {
      "image/png": "[encoded data removed]",
      "text/plain": [
       "<Figure size 432x288 with 1 Axes>"
      ]
     },
     "metadata": {
      "needs_background": "light"
     },
     "output_type": "display_data"
    }
   ],
   "source": [
    "df.plot(x=\"Name\", y=[\"Sign Time\"], kind=\"bar\")"
   ]
  },
  {
   "cell_type": "code",
   "execution_count": 23,
   "id": "c5f6972c",
   "metadata": {},
   "outputs": [
    {
     "data": {
      "text/plain": [
       "<AxesSubplot:xlabel='Name'>"
      ]
     },
     "execution_count": 23,
     "metadata": {},
     "output_type": "execute_result"
    },
    {
     "data": {
      "image/png": "[encoded data removed]",
      "text/plain": [
       "<Figure size 432x288 with 1 Axes>"
      ]
     },
     "metadata": {
      "needs_background": "light"
     },
     "output_type": "display_data"
    }
   ],
   "source": [
    "df.plot(x=\"Name\", y=[\"Verify Time\"], kind=\"bar\")"
   ]
  },
  {
   "cell_type": "code",
   "execution_count": null,
   "id": "a08243ba",
   "metadata": {},
   "outputs": [],
   "source": []
  }
 ],
 "metadata": {
  "kernelspec": {
   "display_name": "Python 3 (ipykernel)",
   "language": "python",
   "name": "python3"
  },
  "language_info": {
   "codemirror_mode": {
    "name": "ipython",
    "version": 3
   },
   "file_extension": ".py",
   "mimetype": "text/x-python",
   "name": "python",
   "nbconvert_exporter": "python",
   "pygments_lexer": "ipython3",
   "version": "3.9.12"
  }
 },
 "nbformat": 4,
 "nbformat_minor": 5
}
